{
 "cells": [
  {
   "cell_type": "markdown",
   "metadata": {},
   "source": [
    "Análise RFM"
   ]
  },
  {
   "cell_type": "markdown",
   "metadata": {},
   "source": [
    "<h1>Bibliotecas para operações</h1>"
   ]
  },
  {
   "cell_type": "code",
<<<<<<< HEAD:Jupyter/RFM/Análise RFM.ipynb
   "execution_count": 13,
=======
   "execution_count": 1,
>>>>>>> 732eef23c73d31e3479c17f29a9e71fcf96742db:Jupyter/RFM/RFM - Test.ipynb
   "metadata": {},
   "outputs": [],
   "source": [
    "import pandas as pd # for dataframes"
   ]
  },
  {
   "cell_type": "code",
   "execution_count": 14,
   "metadata": {},
   "outputs": [],
   "source": [
    "import matplotlib.pyplot as plt # for plotting graphs\n",
    "\n",
    "%matplotlib inline"
   ]
  },
  {
   "cell_type": "code",
   "execution_count": 15,
   "metadata": {},
   "outputs": [],
   "source": [
    "import seaborn as sns # for plotting graphs"
   ]
  },
  {
   "cell_type": "code",
   "execution_count": 16,
   "metadata": {},
   "outputs": [],
   "source": [
    "import datetime as dt"
   ]
  },
  {
   "cell_type": "code",
   "execution_count": 17,
   "metadata": {},
   "outputs": [],
   "source": [
    "import numpy as np"
   ]
  },
  {
   "cell_type": "code",
   "execution_count": 18,
   "metadata": {},
   "outputs": [],
   "source": [
    "import category as ct"
   ]
  },
  {
   "cell_type": "markdown",
   "metadata": {},
   "source": [
    "Leitura da base - Utilizado .csv por conta do processamento ser mais rapido."
   ]
  },
  {
   "cell_type": "markdown",
   "metadata": {},
   "source": [
    "data = pd.read_csv('Online Retail.xlsx')"
   ]
  },
  {
   "cell_type": "code",
<<<<<<< HEAD:Jupyter/RFM/Análise RFM.ipynb
   "execution_count": 19,
=======
   "execution_count": 6,
>>>>>>> 732eef23c73d31e3479c17f29a9e71fcf96742db:Jupyter/RFM/RFM - Test.ipynb
   "metadata": {},
   "outputs": [],
   "source": [
    "data = pd.read_csv('Online Retail.csv',names=['InvoiceNo','StockCode','Description','Quantity','InvoiceDate','UnitPrice','CustomerID','Country'],sep=',',header=0)"
   ]
  },
  {
   "cell_type": "markdown",
   "metadata": {},
   "source": [
    "Analisando a base"
   ]
  },
  {
   "cell_type": "code",
<<<<<<< HEAD:Jupyter/RFM/Análise RFM.ipynb
   "execution_count": 20,
=======
   "execution_count": 7,
>>>>>>> 732eef23c73d31e3479c17f29a9e71fcf96742db:Jupyter/RFM/RFM - Test.ipynb
   "metadata": {},
   "outputs": [
    {
     "name": "stdout",
     "output_type": "stream",
     "text": [
      "<class 'pandas.core.frame.DataFrame'>\n",
      "RangeIndex: 541909 entries, 0 to 541908\n",
      "Data columns (total 8 columns):\n",
      "InvoiceNo      541909 non-null object\n",
      "StockCode      541909 non-null object\n",
      "Description    540455 non-null object\n",
      "Quantity       541909 non-null int64\n",
      "InvoiceDate    541909 non-null object\n",
      "UnitPrice      541909 non-null float64\n",
      "CustomerID     406829 non-null float64\n",
      "Country        541909 non-null object\n",
      "dtypes: float64(2), int64(1), object(5)\n",
      "memory usage: 33.1+ MB\n"
     ]
    }
   ],
   "source": [
    "data.info()"
   ]
  },
  {
   "cell_type": "code",
<<<<<<< HEAD:Jupyter/RFM/Análise RFM.ipynb
   "execution_count": 21,
=======
   "execution_count": 8,
>>>>>>> 732eef23c73d31e3479c17f29a9e71fcf96742db:Jupyter/RFM/RFM - Test.ipynb
   "metadata": {},
   "outputs": [
    {
     "data": {
      "text/html": [
       "<div>\n",
       "<style scoped>\n",
       "    .dataframe tbody tr th:only-of-type {\n",
       "        vertical-align: middle;\n",
       "    }\n",
       "\n",
       "    .dataframe tbody tr th {\n",
       "        vertical-align: top;\n",
       "    }\n",
       "\n",
       "    .dataframe thead th {\n",
       "        text-align: right;\n",
       "    }\n",
       "</style>\n",
       "<table border=\"1\" class=\"dataframe\">\n",
       "  <thead>\n",
       "    <tr style=\"text-align: right;\">\n",
       "      <th></th>\n",
       "      <th>InvoiceNo</th>\n",
       "      <th>StockCode</th>\n",
       "      <th>Description</th>\n",
       "      <th>Quantity</th>\n",
       "      <th>InvoiceDate</th>\n",
       "      <th>UnitPrice</th>\n",
       "      <th>CustomerID</th>\n",
       "      <th>Country</th>\n",
       "    </tr>\n",
       "  </thead>\n",
       "  <tbody>\n",
       "    <tr>\n",
       "      <th>0</th>\n",
       "      <td>536365</td>\n",
       "      <td>85123A</td>\n",
       "      <td>WHITE HANGING HEART T-LIGHT HOLDER</td>\n",
       "      <td>6</td>\n",
       "      <td>12/1/2010 8:26</td>\n",
       "      <td>2.55</td>\n",
       "      <td>17850.0</td>\n",
       "      <td>United Kingdom</td>\n",
       "    </tr>\n",
       "    <tr>\n",
       "      <th>1</th>\n",
       "      <td>536365</td>\n",
       "      <td>71053</td>\n",
       "      <td>WHITE METAL LANTERN</td>\n",
       "      <td>6</td>\n",
       "      <td>12/1/2010 8:26</td>\n",
       "      <td>3.39</td>\n",
       "      <td>17850.0</td>\n",
       "      <td>United Kingdom</td>\n",
       "    </tr>\n",
       "    <tr>\n",
       "      <th>2</th>\n",
       "      <td>536365</td>\n",
       "      <td>84406B</td>\n",
       "      <td>CREAM CUPID HEARTS COAT HANGER</td>\n",
       "      <td>8</td>\n",
       "      <td>12/1/2010 8:26</td>\n",
       "      <td>2.75</td>\n",
       "      <td>17850.0</td>\n",
       "      <td>United Kingdom</td>\n",
       "    </tr>\n",
       "    <tr>\n",
       "      <th>3</th>\n",
       "      <td>536365</td>\n",
       "      <td>84029G</td>\n",
       "      <td>KNITTED UNION FLAG HOT WATER BOTTLE</td>\n",
       "      <td>6</td>\n",
       "      <td>12/1/2010 8:26</td>\n",
       "      <td>3.39</td>\n",
       "      <td>17850.0</td>\n",
       "      <td>United Kingdom</td>\n",
       "    </tr>\n",
       "    <tr>\n",
       "      <th>4</th>\n",
       "      <td>536365</td>\n",
       "      <td>84029E</td>\n",
       "      <td>RED WOOLLY HOTTIE WHITE HEART.</td>\n",
       "      <td>6</td>\n",
       "      <td>12/1/2010 8:26</td>\n",
       "      <td>3.39</td>\n",
       "      <td>17850.0</td>\n",
       "      <td>United Kingdom</td>\n",
       "    </tr>\n",
       "  </tbody>\n",
       "</table>\n",
       "</div>"
      ],
      "text/plain": [
       "  InvoiceNo StockCode                          Description  Quantity  \\\n",
       "0    536365    85123A   WHITE HANGING HEART T-LIGHT HOLDER         6   \n",
       "1    536365     71053                  WHITE METAL LANTERN         6   \n",
       "2    536365    84406B       CREAM CUPID HEARTS COAT HANGER         8   \n",
       "3    536365    84029G  KNITTED UNION FLAG HOT WATER BOTTLE         6   \n",
       "4    536365    84029E       RED WOOLLY HOTTIE WHITE HEART.         6   \n",
       "\n",
       "      InvoiceDate  UnitPrice  CustomerID         Country  \n",
       "0  12/1/2010 8:26       2.55     17850.0  United Kingdom  \n",
       "1  12/1/2010 8:26       3.39     17850.0  United Kingdom  \n",
       "2  12/1/2010 8:26       2.75     17850.0  United Kingdom  \n",
       "3  12/1/2010 8:26       3.39     17850.0  United Kingdom  \n",
       "4  12/1/2010 8:26       3.39     17850.0  United Kingdom  "
      ]
     },
<<<<<<< HEAD:Jupyter/RFM/Análise RFM.ipynb
     "execution_count": 21,
=======
     "execution_count": 8,
>>>>>>> 732eef23c73d31e3479c17f29a9e71fcf96742db:Jupyter/RFM/RFM - Test.ipynb
     "metadata": {},
     "output_type": "execute_result"
    }
   ],
   "source": [
    "data.head()"
   ]
  },
  {
<<<<<<< HEAD:Jupyter/RFM/Análise RFM.ipynb
=======
   "cell_type": "code",
   "execution_count": 9,
   "metadata": {},
   "outputs": [
    {
     "data": {
      "text/html": [
       "<div>\n",
       "<style scoped>\n",
       "    .dataframe tbody tr th:only-of-type {\n",
       "        vertical-align: middle;\n",
       "    }\n",
       "\n",
       "    .dataframe tbody tr th {\n",
       "        vertical-align: top;\n",
       "    }\n",
       "\n",
       "    .dataframe thead th {\n",
       "        text-align: right;\n",
       "    }\n",
       "</style>\n",
       "<table border=\"1\" class=\"dataframe\">\n",
       "  <thead>\n",
       "    <tr style=\"text-align: right;\">\n",
       "      <th></th>\n",
       "      <th>InvoiceNo</th>\n",
       "      <th>StockCode</th>\n",
       "      <th>Description</th>\n",
       "      <th>Quantity</th>\n",
       "      <th>InvoiceDate</th>\n",
       "      <th>UnitPrice</th>\n",
       "      <th>CustomerID</th>\n",
       "      <th>Country</th>\n",
       "    </tr>\n",
       "  </thead>\n",
       "  <tbody>\n",
       "    <tr>\n",
       "      <th>541904</th>\n",
       "      <td>581587</td>\n",
       "      <td>22613</td>\n",
       "      <td>PACK OF 20 SPACEBOY NAPKINS</td>\n",
       "      <td>12</td>\n",
       "      <td>12/9/2011 12:50</td>\n",
       "      <td>0.85</td>\n",
       "      <td>12680.0</td>\n",
       "      <td>France</td>\n",
       "    </tr>\n",
       "    <tr>\n",
       "      <th>541905</th>\n",
       "      <td>581587</td>\n",
       "      <td>22899</td>\n",
       "      <td>CHILDREN'S APRON DOLLY GIRL</td>\n",
       "      <td>6</td>\n",
       "      <td>12/9/2011 12:50</td>\n",
       "      <td>2.10</td>\n",
       "      <td>12680.0</td>\n",
       "      <td>France</td>\n",
       "    </tr>\n",
       "    <tr>\n",
       "      <th>541906</th>\n",
       "      <td>581587</td>\n",
       "      <td>23254</td>\n",
       "      <td>CHILDRENS CUTLERY DOLLY GIRL</td>\n",
       "      <td>4</td>\n",
       "      <td>12/9/2011 12:50</td>\n",
       "      <td>4.15</td>\n",
       "      <td>12680.0</td>\n",
       "      <td>France</td>\n",
       "    </tr>\n",
       "    <tr>\n",
       "      <th>541907</th>\n",
       "      <td>581587</td>\n",
       "      <td>23255</td>\n",
       "      <td>CHILDRENS CUTLERY CIRCUS PARADE</td>\n",
       "      <td>4</td>\n",
       "      <td>12/9/2011 12:50</td>\n",
       "      <td>4.15</td>\n",
       "      <td>12680.0</td>\n",
       "      <td>France</td>\n",
       "    </tr>\n",
       "    <tr>\n",
       "      <th>541908</th>\n",
       "      <td>581587</td>\n",
       "      <td>22138</td>\n",
       "      <td>BAKING SET 9 PIECE RETROSPOT</td>\n",
       "      <td>3</td>\n",
       "      <td>12/9/2011 12:50</td>\n",
       "      <td>4.95</td>\n",
       "      <td>12680.0</td>\n",
       "      <td>France</td>\n",
       "    </tr>\n",
       "  </tbody>\n",
       "</table>\n",
       "</div>"
      ],
      "text/plain": [
       "       InvoiceNo StockCode                      Description  Quantity  \\\n",
       "541904    581587     22613      PACK OF 20 SPACEBOY NAPKINS        12   \n",
       "541905    581587     22899     CHILDREN'S APRON DOLLY GIRL          6   \n",
       "541906    581587     23254    CHILDRENS CUTLERY DOLLY GIRL          4   \n",
       "541907    581587     23255  CHILDRENS CUTLERY CIRCUS PARADE         4   \n",
       "541908    581587     22138    BAKING SET 9 PIECE RETROSPOT          3   \n",
       "\n",
       "            InvoiceDate  UnitPrice  CustomerID Country  \n",
       "541904  12/9/2011 12:50       0.85     12680.0  France  \n",
       "541905  12/9/2011 12:50       2.10     12680.0  France  \n",
       "541906  12/9/2011 12:50       4.15     12680.0  France  \n",
       "541907  12/9/2011 12:50       4.15     12680.0  France  \n",
       "541908  12/9/2011 12:50       4.95     12680.0  France  "
      ]
     },
     "execution_count": 9,
     "metadata": {},
     "output_type": "execute_result"
    }
   ],
   "source": [
    "data.tail()"
   ]
  },
  {
>>>>>>> 732eef23c73d31e3479c17f29a9e71fcf96742db:Jupyter/RFM/RFM - Test.ipynb
   "cell_type": "markdown",
   "metadata": {},
   "source": [
    "Limpeza referente a linhas onde CustomerID é NaN(Nulo)"
   ]
  },
  {
   "cell_type": "code",
<<<<<<< HEAD:Jupyter/RFM/Análise RFM.ipynb
   "execution_count": 22,
=======
   "execution_count": 10,
>>>>>>> 732eef23c73d31e3479c17f29a9e71fcf96742db:Jupyter/RFM/RFM - Test.ipynb
   "metadata": {},
   "outputs": [],
   "source": [
    "data = data[pd.notnull(data['CustomerID'])]"
   ]
  },
  {
   "cell_type": "code",
<<<<<<< HEAD:Jupyter/RFM/Análise RFM.ipynb
   "execution_count": 23,
=======
   "execution_count": 11,
>>>>>>> 732eef23c73d31e3479c17f29a9e71fcf96742db:Jupyter/RFM/RFM - Test.ipynb
   "metadata": {},
   "outputs": [
    {
     "data": {
      "text/plain": [
       "InvoiceNo      406829\n",
       "StockCode      406829\n",
       "Description    406829\n",
       "Quantity       406829\n",
       "InvoiceDate    406829\n",
       "UnitPrice      406829\n",
       "CustomerID     406829\n",
       "Country        406829\n",
       "dtype: int64"
      ]
     },
<<<<<<< HEAD:Jupyter/RFM/Análise RFM.ipynb
     "execution_count": 23,
=======
     "execution_count": 11,
>>>>>>> 732eef23c73d31e3479c17f29a9e71fcf96742db:Jupyter/RFM/RFM - Test.ipynb
     "metadata": {},
     "output_type": "execute_result"
    }
   ],
   "source": [
    "data.count()"
   ]
  },
  {
   "cell_type": "markdown",
   "metadata": {},
   "source": [
    "Análise de densidade das informações por país"
   ]
  },
  {
   "cell_type": "code",
<<<<<<< HEAD:Jupyter/RFM/Análise RFM.ipynb
   "execution_count": 26,
=======
   "execution_count": 12,
>>>>>>> 732eef23c73d31e3479c17f29a9e71fcf96742db:Jupyter/RFM/RFM - Test.ipynb
   "metadata": {},
   "outputs": [],
   "source": [
    "filtered_data = data[['Country','CustomerID']].drop_duplicates()"
   ]
  },
  {
   "cell_type": "code",
<<<<<<< HEAD:Jupyter/RFM/Análise RFM.ipynb
   "execution_count": 27,
=======
   "execution_count": 13,
>>>>>>> 732eef23c73d31e3479c17f29a9e71fcf96742db:Jupyter/RFM/RFM - Test.ipynb
   "metadata": {},
   "outputs": [
    {
     "data": {
      "text/plain": [
<<<<<<< HEAD:Jupyter/RFM/Análise RFM.ipynb
       "<matplotlib.axes._subplots.AxesSubplot at 0x23a8ccf8860>"
      ]
     },
     "execution_count": 27,
=======
       "<matplotlib.axes._subplots.AxesSubplot at 0x258da95f98>"
      ]
     },
     "execution_count": 13,
>>>>>>> 732eef23c73d31e3479c17f29a9e71fcf96742db:Jupyter/RFM/RFM - Test.ipynb
     "metadata": {},
     "output_type": "execute_result"
    },
    {
     "data": {
      "image/png": "iVBORw0KGgoAAAANSUhEUgAAAYAAAAFCCAYAAAD45woAAAAABHNCSVQICAgIfAhkiAAAAAlwSFlzAAALEgAACxIB0t1+/AAAADl0RVh0U29mdHdhcmUAbWF0cGxvdGxpYiB2ZXJzaW9uIDIuMi4zLCBodHRwOi8vbWF0cGxvdGxpYi5vcmcvIxREBQAAIABJREFUeJzt3Xm8XHV9//HXm7BZEYFyoZhQQjEKaCVoWBRrEZRFq4FWavhZSBGN/grurQVtBRcq+lNxx0YJIoKIIiUiipFF3FgCsshiiYKSBiEYwIUKEt+/P853zOTmJvfe3DvnDHPez8djHjPne87M+QzczOec7yrbRERE+2zQdAAREdGMJICIiJZKAoiIaKkkgIiIlkoCiIhoqSSAiIiWSgKIiGipJICIiJZKAoiIaKkNmw5gXbbeemtPnz696TAiIh5Trr322vtsD412XF8ngOnTp7N48eKmw4iIeEyR9LOxHJcqoIiIlkoCiIhoqTEnAElTJP1Q0oVle0dJV0m6XdIXJW1cyjcp20vK/uldn3F8Kf+xpAMn+8tERMTYjecO4A3ArV3b7wNOsT0DuB84upQfDdxv+8nAKeU4JO0KzAGeBhwEfFLSlImFHxER62tMCUDSNODFwGfKtoD9gC+XQ84ADimvZ5dtyv79y/GzgXNsP2z7DmAJsOdkfImIiBi/sd4BfBh4K/CHsv2nwAO2Hy3bS4Gp5fVU4C6Asv/Bcvwfy0d4T0RE1GzUBCDpb4B7bV/bXTzCoR5l37re032+eZIWS1q8fPny0cKLiIj1NJY7gH2Al0q6EziHqurnw8AWkjrjCKYBy8rrpcD2AGX/E4EV3eUjvOePbM+3Pcv2rKGhUccxRETEehp1IJjt44HjASTtC/yz7VdI+hLwMqqkMBe4oLxlYdn+Qdl/qW1LWgicLelDwJOAGcDVE/0C04/72kQ/gjtPfvGEPyMi4rFmIiOB/xU4R9J7gB8Cp5Xy04AzJS2huvKfA2D7ZknnArcAjwLH2F45gfNHRMQEjCsB2L4cuLy8/ikj9OKx/TvgsLW8/yTgpPEGGRERky8jgSMiWioJICKipZIAIiJaKgkgIqKlkgAiIloqCSAioqWSACIiWioJICKipZIAIiJaKgkgIqKlkgAiIloqCSAioqWSACIiWioJICKipZIAIiJaKgkgIqKlkgAiIloqCSAioqVGTQCSNpV0taQbJN0s6Z2l/LOS7pB0fXnMLOWS9FFJSyTdKOmZXZ81V9Lt5TG3d18rIiJGM5Y1gR8G9rP9G0kbAd+V9PWy719sf3nY8QcDM8pjL+BUYC9JWwEnALMAA9dKWmj7/sn4IhERMT6j3gG48puyuVF5eB1vmQ18rrzvSmALSdsBBwKLbK8oP/qLgIMmFn5ERKyvMbUBSJoi6XrgXqof8avKrpNKNc8pkjYpZVOBu7revrSUra18+LnmSVosafHy5cvH+XUiImKsxpQAbK+0PROYBuwp6enA8cDOwB7AVsC/lsM10keso3z4uebbnmV71tDQ0FjCi4iI9TCuXkC2HwAuBw6yfXep5nkYOB3Ysxy2FNi+623TgGXrKI+IiAaMpRfQkKQtyuvHAS8Abiv1+kgScAjwo/KWhcCRpTfQ3sCDtu8GLgYOkLSlpC2BA0pZREQ0YCy9gLYDzpA0hSphnGv7QkmXShqiqtq5HnhtOf4i4EXAEuAh4CgA2yskvRu4phz3LtsrJu+rRETEeIyaAGzfCOw+Qvl+aznewDFr2bcAWDDOGCMiogcyEjgioqWSACIiWioJICKipZIAIiJaKgkgIqKlkgAiIloqCSAioqWSACIiWioJICKipZIAIiJaKgkgIqKlkgAiIloqCSAioqWSACIiWioJICKipZIAIiJaKgkgIqKlxrIm8KaSrpZ0g6SbJb2zlO8o6SpJt0v6oqSNS/kmZXtJ2T+967OOL+U/lnRgr75URESMbix3AA8D+9neDZgJHFQWe38fcIrtGcD9wNHl+KOB+20/GTilHIekXYE5wNOAg4BPlnWGIyKiAaMmAFd+UzY3Kg8D+wFfLuVnAIeU17PLNmX//pJUys+x/bDtO6gWjd9zUr5FRESM25jaACRNkXQ9cC+wCPgJ8IDtR8shS4Gp5fVU4C6Asv9B4E+7y0d4T/e55klaLGnx8uXLx/+NIiJiTMaUAGyvtD0TmEZ11b7LSIeVZ61l39rKh59rvu1ZtmcNDQ2NJbyIiFgP4+oFZPsB4HJgb2ALSRuWXdOAZeX1UmB7gLL/icCK7vIR3hMRETUbSy+gIUlblNePA14A3ApcBrysHDYXuKC8Xli2Kfsvte1SPqf0EtoRmAFcPVlfJCIixmfD0Q9hO+CM0mNnA+Bc2xdKugU4R9J7gB8Cp5XjTwPOlLSE6sp/DoDtmyWdC9wCPAocY3vl5H6diIgYq1ETgO0bgd1HKP8pI/Tisf074LC1fNZJwEnjDzMiIiZbRgJHRLRUEkBEREslAUREtFQSQERESyUBRES0VBJARERLJQFERLRUEkBEREslAUREtFQSQERESyUBRES0VBJARERLJQFERLRUEkBEREslAUREtFQSQERESyUBRES01FjWBN5e0mWSbpV0s6Q3lPITJf2PpOvL40Vd7zle0hJJP5Z0YFf5QaVsiaTjevOVIiJiLMayJvCjwFtsXyfpCcC1khaVfafY/kD3wZJ2pVoH+GnAk4BvSXpK2f0J4IXAUuAaSQtt3zIZXyQiIsZnLGsC3w3cXV7/WtKtwNR1vGU2cI7th4E7yuLwnbWDl5S1hJF0Tjk2CSAiogHjagOQNJ1qgfirStGxkm6UtEDSlqVsKnBX19uWlrK1lQ8/xzxJiyUtXr58+XjCi4iIcRhzApC0GXAe8EbbvwJOBXYCZlLdIXywc+gIb/c6ylcvsOfbnmV71tDQ0FjDi4iIcRpLGwCSNqL68T/L9lcAbN/Ttf/TwIVlcymwfdfbpwHLyuu1lUdERM3G0gtIwGnArbY/1FW+XddhhwI/Kq8XAnMkbSJpR2AGcDVwDTBD0o6SNqZqKF44OV8jIiLGayx3APsARwA3Sbq+lL0NOFzSTKpqnDuB1wDYvlnSuVSNu48Cx9heCSDpWOBiYAqwwPbNk/hdIiJiHMbSC+i7jFx/f9E63nMScNII5Ret630REVGfjASOiGipJICIiJZKAoiIaKkkgIiIlkoCiIhoqSSAiIiWSgKIiGipJICIiJZKAoiIaKkkgIiIlkoCiIhoqSSAiIiWSgKIiGipJICIiJZKAoiIaKkkgIiIlkoCiIhoqbGsCby9pMsk3SrpZklvKOVbSVok6fbyvGUpl6SPSloi6UZJz+z6rLnl+Nslze3d14qIiNGM5Q7gUeAttncB9gaOkbQrcBxwie0ZwCVlG+BgqoXgZwDzgFOhShjACcBewJ7ACZ2kERER9Rs1Adi+2/Z15fWvgVuBqcBs4Ixy2BnAIeX1bOBzrlwJbCFpO+BAYJHtFbbvBxYBB03qt4mIiDEbVxuApOnA7sBVwLa274YqSQDblMOmAnd1vW1pKVtbeURENGDMCUDSZsB5wBtt/2pdh45Q5nWUDz/PPEmLJS1evnz5WMOLiIhxGlMCkLQR1Y//Wba/UorvKVU7lOd7S/lSYPuut08Dlq2jfDW259ueZXvW0NDQeL5LRESMw1h6AQk4DbjV9oe6di0EOj155gIXdJUfWXoD7Q08WKqILgYOkLRlafw9oJRFREQDNhzDMfsARwA3Sbq+lL0NOBk4V9LRwM+Bw8q+i4AXAUuAh4CjAGyvkPRu4Jpy3Ltsr5iUbxEREeM2agKw/V1Grr8H2H+E4w0cs5bPWgAsGE+AERHRGxkJHBHRUkkAEREtlQQQEdFSSQARES2VBBAR0VJJABERLZUEEBHRUkkAEREtlQQQEdFSSQARES2VBBAR0VJJABERLZUEEBHRUkkAEREtlQQQEdFSSQARES2VBBAR0VJjWRN4gaR7Jf2oq+xESf8j6fryeFHXvuMlLZH0Y0kHdpUfVMqWSDpu8r9KRESMx1juAD4LHDRC+Sm2Z5bHRQCSdgXmAE8r7/mkpCmSpgCfAA4GdgUOL8dGRERDxrIm8BWSpo/x82YD59h+GLhD0hJgz7Jvie2fAkg6pxx7y7gjjoiISTGRNoBjJd1Yqoi2LGVTgbu6jllaytZWHhERDVnfBHAqsBMwE7gb+GAp1wjHeh3la5A0T9JiSYuXL1++nuFFRMRo1isB2L7H9krbfwA+zapqnqXA9l2HTgOWraN8pM+eb3uW7VlDQ0PrE15ERIzBeiUASdt1bR4KdHoILQTmSNpE0o7ADOBq4BpghqQdJW1M1VC8cP3DjoiIiRq1EVjSF4B9ga0lLQVOAPaVNJOqGudO4DUAtm+WdC5V4+6jwDG2V5bPORa4GJgCLLB986R/m4iIGLOx9AI6fITi09Zx/EnASSOUXwRcNK7oIiKiZzISOCKipZIAIiJaKgkgIqKlkgAiIloqCSAioqWSACIiWioJICKipZIAIiJaKgkgIqKlkgAiIloqCSAioqWSACIiWioJICKipZIAIiJaKgkgIqKlkgAiIloqCSAioqWSACIiWmrUBCBpgaR7Jf2oq2wrSYsk3V6etyzlkvRRSUsk3SjpmV3vmVuOv13S3N58nYiIGKux3AF8FjhoWNlxwCW2ZwCXlG2Ag4EZ5TEPOBWqhEG1mPxewJ7ACZ2kERERzRg1Adi+AlgxrHg2cEZ5fQZwSFf551y5EthC0nbAgcAi2yts3w8sYs2kEhERNVrfNoBtbd8NUJ63KeVTgbu6jltaytZWvgZJ8yQtlrR4+fLl6xleRESMZrIbgTVCmddRvmahPd/2LNuzhoaGJjW4iIhYZX0TwD2laofyfG8pXwps33XcNGDZOsojIqIh65sAFgKdnjxzgQu6yo8svYH2Bh4sVUQXAwdI2rI0/h5QyiIioiEbjnaApC8A+wJbS1pK1ZvnZOBcSUcDPwcOK4dfBLwIWAI8BBwFYHuFpHcD15Tj3mV7eMNyRETUaNQEYPvwtezaf4RjDRyzls9ZACwYV3QREdEzGQkcEdFSSQARES2VBBAR0VJJABERLZUEEBHRUkkAEREtlQQQEdFSSQARES2VBBAR0VJJABERLZUEEBHRUkkAEREtlQQQEdFSSQARES2VBBAR0VJJABERLZUEEBHRUhNKAJLulHSTpOslLS5lW0laJOn28rxlKZekj0paIulGSc+cjC8QERHrZzLuAJ5ve6btWWX7OOAS2zOAS8o2wMHAjPKYB5w6CeeOiIj11IsqoNnAGeX1GcAhXeWfc+VKYAtJ2/Xg/BERMQYTTQAGvinpWknzStm2tu8GKM/blPKpwF1d711aylYjaZ6kxZIWL1++fILhRUTE2mw4wffvY3uZpG2ARZJuW8exGqHMaxTY84H5ALNmzVpjf0RETI4J3QHYXlae7wXOB/YE7ulU7ZTne8vhS4Htu94+DVg2kfNHRMT6W+8EIOnxkp7QeQ0cAPwIWAjMLYfNBS4orxcCR5beQHsDD3aqiiIion4TqQLaFjhfUudzzrb9DUnXAOdKOhr4OXBYOf4i4EXAEuAh4KgJnDsiIiZovROA7Z8Cu41Q/ktg/xHKDRyzvueLiIjJlZHAEREtlQQQEdFSSQARES2VBBAR0VJJABERLZUEEBHRUkkAEREtlQQQEdFSSQARES2VBBAR0VJJABERLZUEEBHRUkkAEREtlQQQEdFSSQARES2VBBAR0VITXRQ+AE584iR8xoMT/oi/POMvJ/wZN829acKfERGPDbXfAUg6SNKPJS2RdFzd54+IiEqtCUDSFOATwMHArsDhknatM4aIiKjUXQW0J7CkrCeMpHOA2cAtNccRPXLrzrtM+DN2ue3WCX/GJ1576YTef8yn9ptwDB98+d9M+DPe8sULJ/wZEWtTdwKYCtzVtb0U2KvmGCJaZelx35nQ+6ed/FcTjuHEE0/si8+45NKdJvT+/ff7yYRj+LPLrp/wZ/zi+TMn/BkAsj0pHzSmk0mHAQfaflXZPgLY0/bruo6ZB8wrm08FfjzB024N3DfBz5gM/RBHP8QA/RFHP8QA/RFHP8QA/RFHP8QAE49jB9tDox1U9x3AUmD7ru1pwLLuA2zPB+ZP1gklLbY9a7I+77EcRz/E0C9x9EMM/RJHP8TQL3H0Qwx1xlF3L6BrgBmSdpS0MTAHWFhzDBERQc13ALYflXQscDEwBVhg++Y6Y4iIiErtA8FsXwRcVOMpJ606aYL6IY5+iAH6I45+iAH6I45+iAH6I45+iAFqiqPWRuCIiOgfmQsoIqKlkgAiIlpq4CaDK9NNvBiYTtf3s/2hpmKKiOhHA5cAgK8CvwNuAv7QVBCSPgCc3g+9nCQ9F5hh+3RJQ8Bmtu9oOq4mSHoGa14cfKWG8/7tuvbXEUM/kvR02z9qOo62GsQEMM32M5oOArgNmC9pQ+B04Au2Jz7n8zhJOgGYRTWq+nRgI+DzwD41xvC3wPuAbQCVh21vXlcMJY4FwDOAm1l1cWCgjh/fl5TnbYDnAJ3Jip4PXF5TDEi6ieo7r7GL6v9J3f92PlXGBH0WONv2A3WdeB3/LQCo87+FpE2Bo4GnAZt2xfDKXp53EBPA1yUdYPubTQZh+zPAZyQ9FTgKuFHS94BP276sxlAOBXYHritxLZP0hBrPD/B+4CW2Jz7L28TsbbuR2WdtHwUg6UJgV9t3l+3tqGbIrcvEZ6ibRLafK2kG8EpgsaSrqe6cF9Vw+s5/i2PK85nl+RXAQzWcv9uZVBeNBwLvKjH0/N/LICaAK4HzJW0A/J6Grjbhj+0RO5fHfcANwJslvcb2nJrCeMS2JbnE9Piaztvtnj748Qf4gaRdbTc5++z0zo9/cQ/wlLpObvtndZ1rrGzfLunfgMXAR4HdJQl4Wy+rxjr/LSTtY7v7jvi4crH2rl6dewRPtn2YpNm2z5B0NtWA2Z4axATwQeDZwE1ucJCDpA8BLwUuAf7D9tVl1/skTXSCu/E4V9J/AltIejXVldanazw/VFd2XwT+C3i4U9hAvfcZVEngFyWOJqo9Lpd0MfAFquqHOUCdd4QASNob+BiwC7Ax1cj83zZQLfcMqjvkFwOLqO4Ur5P0JOAH1FM19nhJz7X93RLTc4C6L5R+X54fkPR04BdUbVU9NXADwco/roNtN9YAXOJ4JXCO7TVuJSU9sc72AEkvBA6g+sG7uKbb6+7znz5CsXtdvzlCHEuANzOsg0DdV8WlTaQzx/IVts+v8/wlhsVUyedLVG1ER1Jdhb695jiuAD4DfMn2/w7bd4TtM0d+56TG8CxgAdBZ2/UB4JW2r+v1ubtieBVwHlUb1enAZsA7bH+qp+cdwATwWeAvgK+z+tVm7d1AJU0FdmD1HidX1BzDjsDdtn9Xth8HbGv7zjrj6AeSLrU98ZVeBkBntklJN3bugCR93/Zzmo6tKZI2p/pNrL2zRlMGsQrojvLYuDwaIelkqiusW4CVpdhArQmA6gqv+x/1ylK2R69PLOmttt8v6WOM0NvC9ut7HcMwt5W61a/SUFVUv/SIAh4qvW+ul/R+4G5qrPbop95IkjYB/o7SPbhqfgDbPW8DkPQPtj8v6c0j7e/1hevAJQDb7wQoPV1s+zcNhXIo8FTbD496ZG9taPuRzobtR8o//Dp0Gn4X13S+0TyO6of/gK6yurqBdvRLj6gjqOr9jwXeRLVOx9/VeP5+6o10AfAgcC1dFwY16STdunvmAYNZBfR0qi5VW5Wi+4Aj6x6QJenrwGENJqBOHIuAj9leWLZnA6+3vX+TcbWVpO8N63ESDZP0I9tPb/D8U6j+TZ5S+7kHMAF8H3h7p6+9pH2peuHUWrcp6TxgN6peQN3VDbVWe0jaCTgLeBLV7fVdVAlxSY0xDAH/CuzK6oNcaq2PL43RI1VF1dYYLekjwJ/RcI+otVTBPEh1t/Ye27+sKY7GeyNJmk91kXRTXeccIYbLbD+/7vMOXBUQ8PjugVa2L2+o7/tC+mC1M9s/AfaWtBlVwv91A2GcBXyRqqvfa4G5wPIG4riw6/WmVNV0y9ZybK9sTjXIqMlqKKg6SawEzi7bc6guEB6kGpX7kpHfNuk+zgi9kWo6d8dzgX+UdAfNdQ/+vqSPU/07+W2nsNc9kQbxDuB8qlGvne5j/wDMsn1Ic1E1Z3gDV6e8jgaurhiutf2sYT1Ovm37r+uKYS1xbQB8q409g0aqiuqUSbrJ9l/WFEfjvZEk7TBSeZ3dgyWNNBbEvf7bHMQ7gFcC76S6ohJVr5uj6g6iDG9/L2tWe/xFzaE02cDV0RnkcrekF1NddU9rKJZuM4A/r/OETc35MoLNJO1l+6oS155Ufc8BHq0xjkZ7I8FqI4K3oev/Sc2Otv3T7gJJPf+tGLgEYPt+oO7uhSM5HTgBOIVqwq+jqBJS3abZPqiB83Z7j6QnAm+hqu/dnKrnSa0k/ZqqukXl+RdUbRN1amTOlxG8CljQqRoEfgW8qlSXvrfGOI6gWpekuzfSOmdOnWySXko1g8CTgHupxu7cSpWk6/Jl4JnDyr4EPKuXJx2YKiBJX2XdM/u9tMZwuqs9/ng7Lek7tv9qtPdOchyNN3DFKpJ+aHv3TpWHpI2oRmc3Ug1VErNc4yycw87/BtsfGa2sxzHcAOxHVR24u6TnA4fbnlfDuXemSjTvB/6la9fmwL/Y7mkSGqQ7gA+U57+l6mXx+bJ9OHBnA/H8rtQx3y7pWOB/qAb/1K3xBq5yK/sRqjma/kA1x8ubht/y9vD8O9u+TdLwKyyg9w1twzQy58twkt4xbBuot22omEv1t9HtH0co66Xf2/6lpA0kbWD7Mknvq+ncT6UaE7EFqze8/xp4da9PPjAJwPa3ASS92/bzunZ9tcw3Urc3An9CVR31bqorjLkNxHFwA+cc7myqKY8PLdtzqCZD26um878ZmEd1mz+cqf7f1GW+pC2Bf6fqJbYZ8I51v6Unftv1elOqH6HaqqIkHQ78H2BHSd295Z4A1NIFtcsDpSrsCuAsSfdSUzuI7QuACyQ92/YP6jhnt4GpAuqQdCvw4s7VZZkL5yLbuzQbWbOGN3DZ/nmN577K9l7Dyq60vXddMcS6ld5iC20fWNP5dgB2pGpvOK5r16+BG23X1hBd2j1+R3V3/AqqSeHOqmssRInh/cB7gP8FvkE1huiNtj+/zjdO9LwDmAAOAuYDneqF6cBrbPd8bu1hccwC3s6ak8HVuuLS2hq4el23OCyGk6lmWDyH6or75cAmlIVQbK+oKY6RGhcfpJo6/N4en3vEuV46mpissFu5K7na9owm42grSdfbninpUOAQqgbxy2zv1svzDkwVUIftb5QumDuXotsamo/nLKpGnUbXJqaqftqbYQ1cNcfw8vLcaVTr9IZ6JVVCqKtr7NFU7RCdPtf7Ui0g9BRJ73Jvpx5uZK6XtRk2EngKMET1t1LX+Ts9stbYRU2T4/VDDF02Ks8volo+dkWnXaaXBi4BjHCVt5OkWq7yhlnemX+nYY01cEnaA7jL9o5ley7VoLQ7gRPruvLv8gdgF9v3lHi2BU6laou4glWDByed7Xc2OefLCLonY3uUatW22qpdbDeeEPshhi5flXQbVRXQP5XpU37X65MOYhXQ16iu8i6lyuT7Uq7ygF5f5XXHsT/VlfbwuYDqnvPlW1S3lO8FtqaqBtqjjpGWkq4DXlCuZp5HVQX0OmAm1Q/xy3odw7B4VhvhquoS6ybbT+90z6whhkbmfBkhjjNtHzFaWVuU5Lwtq1fX1tZOVmLYEviV7ZWS/gTY3PYvennOgbsDoMGrvGGOoqqG2ohVVUBNzPkym+qq4k2sauCqq6vflK6r/JcD822fB5wn6fqaYuj2HVWLsn+pbP8dcEVpBKyrH3wjc76MYLU2IEkb0uNBR/1K0uuoBm3ew+r/VuvsKn1k1+vuXZ/r5XkHMQFM7/z4F/cCTylXob9f25t6YLe65lNZm3JVc4HtF1D9YZ9RcwhTJG1Yqhb2Z1UbADTzt3cM1Y/+PlR3h58DznN1G1zXVXnnzqs7CdfWFVXS8cDbgMdJ+lWnGHiEqvNEG72Bau2OurufduteoGlTqn8v15EEMG79cJUHcKWkXW3fUuM5V1NuJR9SzWsQd/kC8G1J91HdhXwHQNKTqXrf1Kr80H+5PBrRdPWP7feWNqDPNDD/UL+6iwb+HrvZfl33dhmh3fv1kAewDUCsfpX3XVZd5dUZx63ATlTLUzY1xSySzqXqBbSI1ascapkvSdV879sB37T921L2FGCzuqo9+qm3R6mS/A/gSbYPlrQr8Gzbp9UVQ4njWtutrPIZTtJpVCNyv0bD64h3xbQRVfvUzqMePAEDdwfQD1d5RdMTsHV8rTwaYfvKEcr+u+YY+qm3x2epJgp8e9n+b6r2gFoTANUd6h62r6n5vP3o5+XR2Driw+Yym0K1QM65PT/vAN4BNL7odpkD6EY3u8zcn9fdi+GxQNJzgRm2T5e0NfAE23fUeP5rbO/R3euoMwiorhjKOW+h6hn3M6o7w0buUKMiqXttjEep/n8cbvuYXp534O4A6INFt23/QdINDf8I/xdlellJ59muc8HvviTpBKpVp55KdRW+MdWkgXWu0ftbSX9KudorVWRN1D/3wxxRjZL0Ydtv1FpmEnaNMwjb/rakmVTzI/09VdXxeb0+7yAmgHua/PHvsh1ws6SrWb3uva4/qu6+ZHUvQtOvDgV2p+pdge1lkuquHnoL1SRwO0n6HtUI3MNqjgHbP5O0G9CZnvw7tm+oO46GdRpZP7DOo3qotIfNoRoz9Euq6kDV1VlgEBPAYklfpOFFt6lWJWuS1/K6zR6xbUmdq+/a14q2fW253X8qVZL+se06uycD1Zz7VNMNd/5dfF7SfNsfqzuWBi2HVTMJN+Q2qt5xL7G9BEBSbYslDWIbwOkjFLuJLm9lxsMZtr9VRvZNcU2Lsktayaq63cdRLUQOzcxz0hck/TPVMpAvpBoZ/Urg7Dp/9CT9BPh/tj/VVXah7b9Zx9t6EceNVL2POj2zHg/8oE1tAJKus91oNWmZ/G0O1fiQb1CNlv9MZ/oMTLDkAAAGdElEQVSUXhu4OwDbta//OxJJr6Ya+LQVVXfQqcCnqAZ49JztKXWc57HE9gckvZBq+cOnAu+wvajmMH4PPF/SXlSz1D5C9bdRNwEru7ZXQiNLljap8WpS2+cD55cE3JkFdFtJpwLn2/5mL88/MAlA0lttv1/Sxxi5QafudYKPAfYErirnv13VnPzRoPKDv6j0AGpi5OdDtl8u6a1Ugxb/nmaq6E4HrpJ0ftk+hPq7ojatb6pJy53YWVQL0mxF1S50HJAEMEadht/FjUaxysO2H+nM61HmWhms+rbHiNLT5mRgBdWUx2dSTYy3gaQjbX+jznAAysXKtcDFVHeJtbL9IUmXUy0ZKuAo2z+sO46G7VamwxBrTo3RWDVpmT/rP8ujpwYpAfwcwPYa891I+r/1h8O3JXXmXHkh8E/AVxuII+DjVPPfPJFqltiDbV+pakHuL1DVvdblj8s/2r5E0oHUuFSopE2B1wJPplqr4pOucRrofpJqUtig6QAm0fmS1hjaLumd1LC48giOo+plcBNVW8DXbL993W+JHtnQ9jdtfwn4RWd0su3bGojljd0btn8G/PVaju2FM6jGQtxENRagsS6Q0bxBugM4DPiSpFfY/kGZE+hUqtGO+9YVhKTZwDTbnwA+XRqDh4BnSXrAdtNTVLRR94ps/ztsXy3VcuXK+0+Arcu8750GyM2pluusy66dWWrLHDhX13ju6DMDkwBK/+pDqO4EjmHVVf9BpadFXd5K1a2rY2OqedY3o2p4SwKo37rqejetKYbXUF39P4kyEK34FWVt5Jr8ccyB7UdVw7KD0b8GZhxAaTkH2JVqENi3gGMpV3+ub+Hxa2zv0bX9cdvHltdX2t67jjiiP0l6XZODrbrGh8DqY0RaOz6kzQYpAdzBqtv5zmWNWfWHXUs/X0lLbD95Lft+YnunOuKI/iJpP9uXas01q4FGRqpHDFQVUC0j58bgKkmvtv3p7kJJryH1rW3211Q9kF4ywr4mlgqNGJw7gH5RBnt15iHq1PU+C9gEOMSrL1cZEdGYJIAekbQfqxbevtn2pU3GE/2hzAV0JdUEYFe4wSVDI5IAImokaRNgL6ppmPcBdgZusH1oo4FFKw1MG0BXL6AR1dULKGIUK6m6Yq6k6qF2D3BvoxFFaw3MHUBXLyABfw7cX15vAfy8jxqJo8UkPUQ1CvdDwLdsNzEhXQQwQAmgQ9KngIW2LyrbBwMvsP2WZiOL+ONI8edSzRT7CPB9qraASxoNLFppEBPAtbafNaxsse1ZTcUUMVyZiO5gqtHB29h+XMMhRQsN0mRwHfdJ+jdJ0yXtIOntNDPve8QaJJ1XegJ9BHg8cASwZbNRRVsNYgI4nGrytfPLY6iURTRG0h6S/oxqXYKnAGdTVQO9jGqSuIjaDVwVUIekzWz/puk4IqBaf5aqLWqFpOdRrf36OmAmsIvtlzUaYLTSwN0BSHqOpFuAW8r2bpI+2XBYEVO6uiK/HJhv+zzb/061OEtE7QYuAQCnAAdS6v1t3wA8r9GIImBKWRYUYH+qeYE6BmY8Tjy2DOQfnu27hs1zvrKpWCKKL1AtE3of1aI03wGQ9GTgwSYDi/YaxARwl6TnAJa0MfB6Vi0YH9EI2ydJugTYDvimVzW+bUDVFhBRu4FrBJa0NVUXuxdQjQT+JvD6TAUREbG6QUwA+9j+3mhlERFtN4gJ4DrbzxytLCKi7QamDUDSs4HnAEOS3ty1a3NgSjNRRUT0r4FJAMDGwGZU3+kJXeW/ohptGRERXQaxCmgH2z9rOo6IiH43MAlA0odtv1HSV6nWBViN7Zc2EFZERN8apCqgM8vzBxqNIiLiMWJg7gAiImJ8BukOAKj6/AMnAjtQfT8Btv0XTcYVEdFvBu4OQNJtwJuAa+maAyhrr0ZErG7g7gCAB21/vekgIiL63SDeAZxMNfDrK8DDnXLb1zUWVEREHxrEBHDZCMW2vV/twURE9LGBSwARETE2A9MGMGz+H6gGg90HfNf2HQ2EFBHR1wZpScgnDHtsDswCvi5pTpOBRUT0o4GvApK0FfCtTAcdEbG6QboDGFFZCUyjHhgR0TIDnwAk7Qfc33QcERH9ZpAagW9izVlAtwKWAUfWH1FERH8bmDYASTsMKzLwS9u/bSKeiIh+NzAJICIixmfg2wAiImJkSQARES2VBBAR0VJJABERLZUEEBHRUv8fVtdn4UrE/+QAAAAASUVORK5CYII=\n",
      "text/plain": [
       "<Figure size 432x288 with 1 Axes>"
      ]
     },
     "metadata": {
      "needs_background": "light"
     },
     "output_type": "display_data"
    }
   ],
   "source": [
    "filtered_data.Country.value_counts()[:10].plot(kind='bar')"
   ]
  },
  {
   "cell_type": "markdown",
   "metadata": {},
   "source": [
    "Filtrando apenas clientes do Reino Unido"
   ]
  },
  {
   "cell_type": "code",
<<<<<<< HEAD:Jupyter/RFM/Análise RFM.ipynb
   "execution_count": 28,
=======
   "execution_count": 14,
>>>>>>> 732eef23c73d31e3479c17f29a9e71fcf96742db:Jupyter/RFM/RFM - Test.ipynb
   "metadata": {},
   "outputs": [],
   "source": [
    "uk_data=data[data.Country=='United Kingdom']"
   ]
  },
  {
   "cell_type": "code",
<<<<<<< HEAD:Jupyter/RFM/Análise RFM.ipynb
   "execution_count": 29,
=======
   "execution_count": 15,
>>>>>>> 732eef23c73d31e3479c17f29a9e71fcf96742db:Jupyter/RFM/RFM - Test.ipynb
   "metadata": {},
   "outputs": [
    {
     "name": "stdout",
     "output_type": "stream",
     "text": [
      "<class 'pandas.core.frame.DataFrame'>\n",
      "Int64Index: 361878 entries, 0 to 541893\n",
      "Data columns (total 8 columns):\n",
      "InvoiceNo      361878 non-null object\n",
      "StockCode      361878 non-null object\n",
      "Description    361878 non-null object\n",
      "Quantity       361878 non-null int64\n",
      "InvoiceDate    361878 non-null object\n",
      "UnitPrice      361878 non-null float64\n",
      "CustomerID     361878 non-null float64\n",
      "Country        361878 non-null object\n",
      "dtypes: float64(2), int64(1), object(5)\n",
      "memory usage: 24.8+ MB\n"
     ]
    }
   ],
   "source": [
    "uk_data.info()"
   ]
  },
  {
<<<<<<< HEAD:Jupyter/RFM/Análise RFM.ipynb
=======
   "cell_type": "code",
   "execution_count": 16,
   "metadata": {},
   "outputs": [
    {
     "data": {
      "text/html": [
       "<div>\n",
       "<style scoped>\n",
       "    .dataframe tbody tr th:only-of-type {\n",
       "        vertical-align: middle;\n",
       "    }\n",
       "\n",
       "    .dataframe tbody tr th {\n",
       "        vertical-align: top;\n",
       "    }\n",
       "\n",
       "    .dataframe thead th {\n",
       "        text-align: right;\n",
       "    }\n",
       "</style>\n",
       "<table border=\"1\" class=\"dataframe\">\n",
       "  <thead>\n",
       "    <tr style=\"text-align: right;\">\n",
       "      <th></th>\n",
       "      <th>Quantity</th>\n",
       "      <th>UnitPrice</th>\n",
       "      <th>CustomerID</th>\n",
       "    </tr>\n",
       "  </thead>\n",
       "  <tbody>\n",
       "    <tr>\n",
       "      <th>count</th>\n",
       "      <td>361878.000000</td>\n",
       "      <td>361878.000000</td>\n",
       "      <td>361878.000000</td>\n",
       "    </tr>\n",
       "    <tr>\n",
       "      <th>mean</th>\n",
       "      <td>11.077029</td>\n",
       "      <td>3.256007</td>\n",
       "      <td>15547.871368</td>\n",
       "    </tr>\n",
       "    <tr>\n",
       "      <th>std</th>\n",
       "      <td>263.129266</td>\n",
       "      <td>70.654731</td>\n",
       "      <td>1594.402590</td>\n",
       "    </tr>\n",
       "    <tr>\n",
       "      <th>min</th>\n",
       "      <td>-80995.000000</td>\n",
       "      <td>0.000000</td>\n",
       "      <td>12346.000000</td>\n",
       "    </tr>\n",
       "    <tr>\n",
       "      <th>25%</th>\n",
       "      <td>2.000000</td>\n",
       "      <td>1.250000</td>\n",
       "      <td>14194.000000</td>\n",
       "    </tr>\n",
       "    <tr>\n",
       "      <th>50%</th>\n",
       "      <td>4.000000</td>\n",
       "      <td>1.950000</td>\n",
       "      <td>15514.000000</td>\n",
       "    </tr>\n",
       "    <tr>\n",
       "      <th>75%</th>\n",
       "      <td>12.000000</td>\n",
       "      <td>3.750000</td>\n",
       "      <td>16931.000000</td>\n",
       "    </tr>\n",
       "    <tr>\n",
       "      <th>max</th>\n",
       "      <td>80995.000000</td>\n",
       "      <td>38970.000000</td>\n",
       "      <td>18287.000000</td>\n",
       "    </tr>\n",
       "  </tbody>\n",
       "</table>\n",
       "</div>"
      ],
      "text/plain": [
       "            Quantity      UnitPrice     CustomerID\n",
       "count  361878.000000  361878.000000  361878.000000\n",
       "mean       11.077029       3.256007   15547.871368\n",
       "std       263.129266      70.654731    1594.402590\n",
       "min    -80995.000000       0.000000   12346.000000\n",
       "25%         2.000000       1.250000   14194.000000\n",
       "50%         4.000000       1.950000   15514.000000\n",
       "75%        12.000000       3.750000   16931.000000\n",
       "max     80995.000000   38970.000000   18287.000000"
      ]
     },
     "execution_count": 16,
     "metadata": {},
     "output_type": "execute_result"
    }
   ],
   "source": [
    "uk_data.describe()"
   ]
  },
  {
>>>>>>> 732eef23c73d31e3479c17f29a9e71fcf96742db:Jupyter/RFM/RFM - Test.ipynb
   "cell_type": "markdown",
   "metadata": {},
   "source": [
    "Limpeza de dados onde a quantidade é igual a zero."
   ]
  },
  {
   "cell_type": "code",
<<<<<<< HEAD:Jupyter/RFM/Análise RFM.ipynb
   "execution_count": 30,
=======
   "execution_count": 17,
>>>>>>> 732eef23c73d31e3479c17f29a9e71fcf96742db:Jupyter/RFM/RFM - Test.ipynb
   "metadata": {},
   "outputs": [],
   "source": [
    "uk_data = uk_data[(uk_data['Quantity']>0)]"
   ]
  },
  {
   "cell_type": "code",
<<<<<<< HEAD:Jupyter/RFM/Análise RFM.ipynb
   "execution_count": 31,
=======
   "execution_count": 18,
>>>>>>> 732eef23c73d31e3479c17f29a9e71fcf96742db:Jupyter/RFM/RFM - Test.ipynb
   "metadata": {},
   "outputs": [
    {
     "name": "stdout",
     "output_type": "stream",
     "text": [
      "<class 'pandas.core.frame.DataFrame'>\n",
      "Int64Index: 354345 entries, 0 to 541893\n",
      "Data columns (total 8 columns):\n",
      "InvoiceNo      354345 non-null object\n",
      "StockCode      354345 non-null object\n",
      "Description    354345 non-null object\n",
      "Quantity       354345 non-null int64\n",
      "InvoiceDate    354345 non-null object\n",
      "UnitPrice      354345 non-null float64\n",
      "CustomerID     354345 non-null float64\n",
      "Country        354345 non-null object\n",
      "dtypes: float64(2), int64(1), object(5)\n",
      "memory usage: 24.3+ MB\n"
     ]
    }
   ],
   "source": [
    "uk_data.info()"
   ]
  },
  {
   "cell_type": "markdown",
   "metadata": {},
   "source": [
    "Determinando colunas pertinentes a análise"
   ]
  },
  {
   "cell_type": "code",
<<<<<<< HEAD:Jupyter/RFM/Análise RFM.ipynb
   "execution_count": 32,
=======
   "execution_count": 19,
>>>>>>> 732eef23c73d31e3479c17f29a9e71fcf96742db:Jupyter/RFM/RFM - Test.ipynb
   "metadata": {},
   "outputs": [],
   "source": [
    "uk_data = uk_data[['CustomerID','InvoiceDate','InvoiceNo','Quantity','UnitPrice']]"
   ]
  },
  {
   "cell_type": "code",
<<<<<<< HEAD:Jupyter/RFM/Análise RFM.ipynb
   "execution_count": 33,
=======
   "execution_count": 20,
>>>>>>> 732eef23c73d31e3479c17f29a9e71fcf96742db:Jupyter/RFM/RFM - Test.ipynb
   "metadata": {},
   "outputs": [
    {
     "data": {
      "text/html": [
       "<div>\n",
       "<style scoped>\n",
       "    .dataframe tbody tr th:only-of-type {\n",
       "        vertical-align: middle;\n",
       "    }\n",
       "\n",
       "    .dataframe tbody tr th {\n",
       "        vertical-align: top;\n",
       "    }\n",
       "\n",
       "    .dataframe thead th {\n",
       "        text-align: right;\n",
       "    }\n",
       "</style>\n",
       "<table border=\"1\" class=\"dataframe\">\n",
       "  <thead>\n",
       "    <tr style=\"text-align: right;\">\n",
       "      <th></th>\n",
       "      <th>CustomerID</th>\n",
       "      <th>InvoiceDate</th>\n",
       "      <th>InvoiceNo</th>\n",
       "      <th>Quantity</th>\n",
       "      <th>UnitPrice</th>\n",
       "    </tr>\n",
       "  </thead>\n",
       "  <tbody>\n",
       "    <tr>\n",
       "      <th>0</th>\n",
       "      <td>17850.0</td>\n",
       "      <td>12/1/2010 8:26</td>\n",
       "      <td>536365</td>\n",
       "      <td>6</td>\n",
       "      <td>2.55</td>\n",
       "    </tr>\n",
       "    <tr>\n",
       "      <th>1</th>\n",
       "      <td>17850.0</td>\n",
       "      <td>12/1/2010 8:26</td>\n",
       "      <td>536365</td>\n",
       "      <td>6</td>\n",
       "      <td>3.39</td>\n",
       "    </tr>\n",
       "    <tr>\n",
       "      <th>2</th>\n",
       "      <td>17850.0</td>\n",
       "      <td>12/1/2010 8:26</td>\n",
       "      <td>536365</td>\n",
       "      <td>8</td>\n",
       "      <td>2.75</td>\n",
       "    </tr>\n",
       "    <tr>\n",
       "      <th>3</th>\n",
       "      <td>17850.0</td>\n",
       "      <td>12/1/2010 8:26</td>\n",
       "      <td>536365</td>\n",
       "      <td>6</td>\n",
       "      <td>3.39</td>\n",
       "    </tr>\n",
       "    <tr>\n",
       "      <th>4</th>\n",
       "      <td>17850.0</td>\n",
       "      <td>12/1/2010 8:26</td>\n",
       "      <td>536365</td>\n",
       "      <td>6</td>\n",
       "      <td>3.39</td>\n",
       "    </tr>\n",
       "  </tbody>\n",
       "</table>\n",
       "</div>"
      ],
      "text/plain": [
       "   CustomerID     InvoiceDate InvoiceNo  Quantity  UnitPrice\n",
       "0     17850.0  12/1/2010 8:26    536365         6       2.55\n",
       "1     17850.0  12/1/2010 8:26    536365         6       3.39\n",
       "2     17850.0  12/1/2010 8:26    536365         8       2.75\n",
       "3     17850.0  12/1/2010 8:26    536365         6       3.39\n",
       "4     17850.0  12/1/2010 8:26    536365         6       3.39"
      ]
     },
<<<<<<< HEAD:Jupyter/RFM/Análise RFM.ipynb
     "execution_count": 33,
=======
     "execution_count": 20,
>>>>>>> 732eef23c73d31e3479c17f29a9e71fcf96742db:Jupyter/RFM/RFM - Test.ipynb
     "metadata": {},
     "output_type": "execute_result"
    }
   ],
   "source": [
    "uk_data.head()"
   ]
  },
  {
   "cell_type": "markdown",
   "metadata": {},
   "source": [
    "Criando coluna 'TotalPrice'"
   ]
  },
  {
   "cell_type": "code",
<<<<<<< HEAD:Jupyter/RFM/Análise RFM.ipynb
   "execution_count": 34,
=======
   "execution_count": 21,
>>>>>>> 732eef23c73d31e3479c17f29a9e71fcf96742db:Jupyter/RFM/RFM - Test.ipynb
   "metadata": {},
   "outputs": [],
   "source": [
    "uk_data['TotalPrice']= uk_data['Quantity'] * uk_data['UnitPrice']"
   ]
  },
  {
   "cell_type": "code",
<<<<<<< HEAD:Jupyter/RFM/Análise RFM.ipynb
   "execution_count": 35,
=======
   "execution_count": 22,
>>>>>>> 732eef23c73d31e3479c17f29a9e71fcf96742db:Jupyter/RFM/RFM - Test.ipynb
   "metadata": {},
   "outputs": [
    {
     "data": {
      "text/html": [
       "<div>\n",
       "<style scoped>\n",
       "    .dataframe tbody tr th:only-of-type {\n",
       "        vertical-align: middle;\n",
       "    }\n",
       "\n",
       "    .dataframe tbody tr th {\n",
       "        vertical-align: top;\n",
       "    }\n",
       "\n",
       "    .dataframe thead th {\n",
       "        text-align: right;\n",
       "    }\n",
       "</style>\n",
       "<table border=\"1\" class=\"dataframe\">\n",
       "  <thead>\n",
       "    <tr style=\"text-align: right;\">\n",
       "      <th></th>\n",
       "      <th>CustomerID</th>\n",
       "      <th>InvoiceDate</th>\n",
       "      <th>InvoiceNo</th>\n",
       "      <th>Quantity</th>\n",
       "      <th>UnitPrice</th>\n",
       "      <th>TotalPrice</th>\n",
       "    </tr>\n",
       "  </thead>\n",
       "  <tbody>\n",
       "    <tr>\n",
       "      <th>0</th>\n",
       "      <td>17850.0</td>\n",
       "      <td>12/1/2010 8:26</td>\n",
       "      <td>536365</td>\n",
       "      <td>6</td>\n",
       "      <td>2.55</td>\n",
       "      <td>15.30</td>\n",
       "    </tr>\n",
       "    <tr>\n",
       "      <th>1</th>\n",
       "      <td>17850.0</td>\n",
       "      <td>12/1/2010 8:26</td>\n",
       "      <td>536365</td>\n",
       "      <td>6</td>\n",
       "      <td>3.39</td>\n",
       "      <td>20.34</td>\n",
       "    </tr>\n",
       "    <tr>\n",
       "      <th>2</th>\n",
       "      <td>17850.0</td>\n",
       "      <td>12/1/2010 8:26</td>\n",
       "      <td>536365</td>\n",
       "      <td>8</td>\n",
       "      <td>2.75</td>\n",
       "      <td>22.00</td>\n",
       "    </tr>\n",
       "    <tr>\n",
       "      <th>3</th>\n",
       "      <td>17850.0</td>\n",
       "      <td>12/1/2010 8:26</td>\n",
       "      <td>536365</td>\n",
       "      <td>6</td>\n",
       "      <td>3.39</td>\n",
       "      <td>20.34</td>\n",
       "    </tr>\n",
       "    <tr>\n",
       "      <th>4</th>\n",
       "      <td>17850.0</td>\n",
       "      <td>12/1/2010 8:26</td>\n",
       "      <td>536365</td>\n",
       "      <td>6</td>\n",
       "      <td>3.39</td>\n",
       "      <td>20.34</td>\n",
       "    </tr>\n",
       "  </tbody>\n",
       "</table>\n",
       "</div>"
      ],
      "text/plain": [
       "   CustomerID     InvoiceDate InvoiceNo  Quantity  UnitPrice  TotalPrice\n",
       "0     17850.0  12/1/2010 8:26    536365         6       2.55       15.30\n",
       "1     17850.0  12/1/2010 8:26    536365         6       3.39       20.34\n",
       "2     17850.0  12/1/2010 8:26    536365         8       2.75       22.00\n",
       "3     17850.0  12/1/2010 8:26    536365         6       3.39       20.34\n",
       "4     17850.0  12/1/2010 8:26    536365         6       3.39       20.34"
      ]
     },
<<<<<<< HEAD:Jupyter/RFM/Análise RFM.ipynb
     "execution_count": 35,
=======
     "execution_count": 22,
>>>>>>> 732eef23c73d31e3479c17f29a9e71fcf96742db:Jupyter/RFM/RFM - Test.ipynb
     "metadata": {},
     "output_type": "execute_result"
    }
   ],
   "source": [
    "uk_data.head()"
   ]
  },
  {
   "cell_type": "markdown",
   "metadata": {},
   "source": [
    "Ajuste de datas"
   ]
  },
  {
   "cell_type": "code",
<<<<<<< HEAD:Jupyter/RFM/Análise RFM.ipynb
   "execution_count": 36,
=======
   "execution_count": 23,
>>>>>>> 732eef23c73d31e3479c17f29a9e71fcf96742db:Jupyter/RFM/RFM - Test.ipynb
   "metadata": {},
   "outputs": [
    {
     "data": {
      "text/plain": [
       "('1/10/2011 10:32', '9/9/2011 9:52')"
      ]
     },
<<<<<<< HEAD:Jupyter/RFM/Análise RFM.ipynb
     "execution_count": 36,
=======
     "execution_count": 23,
>>>>>>> 732eef23c73d31e3479c17f29a9e71fcf96742db:Jupyter/RFM/RFM - Test.ipynb
     "metadata": {},
     "output_type": "execute_result"
    }
   ],
   "source": [
    "uk_data['InvoiceDate'].min(),uk_data['InvoiceDate'].max()"
   ]
  },
  {
   "cell_type": "code",
<<<<<<< HEAD:Jupyter/RFM/Análise RFM.ipynb
   "execution_count": 37,
=======
   "execution_count": 24,
>>>>>>> 732eef23c73d31e3479c17f29a9e71fcf96742db:Jupyter/RFM/RFM - Test.ipynb
   "metadata": {},
   "outputs": [],
   "source": [
    "PRESENT = dt.datetime(2011,12,10)"
   ]
  },
  {
   "cell_type": "code",
<<<<<<< HEAD:Jupyter/RFM/Análise RFM.ipynb
   "execution_count": 38,
=======
   "execution_count": 25,
>>>>>>> 732eef23c73d31e3479c17f29a9e71fcf96742db:Jupyter/RFM/RFM - Test.ipynb
   "metadata": {},
   "outputs": [],
   "source": [
    "uk_data['InvoiceDate'] = pd.to_datetime(uk_data['InvoiceDate'])"
   ]
  },
  {
   "cell_type": "code",
<<<<<<< HEAD:Jupyter/RFM/Análise RFM.ipynb
   "execution_count": 39,
   "metadata": {},
   "outputs": [
    {
     "data": {
      "text/plain": [
       "(Timestamp('2010-12-01 08:26:00'), Timestamp('2011-12-09 12:49:00'))"
      ]
     },
     "execution_count": 39,
     "metadata": {},
     "output_type": "execute_result"
    }
   ],
   "source": [
    "uk_data['InvoiceDate'].min(),uk_data['InvoiceDate'].max()"
   ]
  },
  {
   "cell_type": "markdown",
   "metadata": {},
   "source": [
    "Agrupamento por CustomerID"
   ]
  },
  {
   "cell_type": "code",
   "execution_count": 40,
   "metadata": {},
   "outputs": [],
   "source": [
    "rfm = uk_data.groupby('CustomerID').agg({'InvoiceDate': lambda date: (PRESENT - date.max()).days,\n",
    "                                         'InvoiceNo': lambda num: len(num),\n",
    "                                         'TotalPrice': lambda price: price.sum()})"
   ]
  },
  {
   "cell_type": "code",
   "execution_count": 41,
=======
   "execution_count": 26,
>>>>>>> 732eef23c73d31e3479c17f29a9e71fcf96742db:Jupyter/RFM/RFM - Test.ipynb
   "metadata": {},
   "outputs": [
    {
     "data": {
      "text/html": [
       "<div>\n",
       "<style scoped>\n",
       "    .dataframe tbody tr th:only-of-type {\n",
       "        vertical-align: middle;\n",
       "    }\n",
       "\n",
       "    .dataframe tbody tr th {\n",
       "        vertical-align: top;\n",
       "    }\n",
       "\n",
       "    .dataframe thead th {\n",
       "        text-align: right;\n",
       "    }\n",
       "</style>\n",
       "<table border=\"1\" class=\"dataframe\">\n",
       "  <thead>\n",
       "    <tr style=\"text-align: right;\">\n",
       "      <th></th>\n",
       "      <th>InvoiceDate</th>\n",
       "      <th>InvoiceNo</th>\n",
       "      <th>TotalPrice</th>\n",
       "    </tr>\n",
       "    <tr>\n",
       "      <th>CustomerID</th>\n",
       "      <th></th>\n",
       "      <th></th>\n",
       "      <th></th>\n",
       "    </tr>\n",
       "  </thead>\n",
       "  <tbody>\n",
       "    <tr>\n",
       "      <th>12346.0</th>\n",
       "      <td>325</td>\n",
       "      <td>1</td>\n",
       "      <td>77183.60</td>\n",
       "    </tr>\n",
       "    <tr>\n",
<<<<<<< HEAD:Jupyter/RFM/Análise RFM.ipynb
=======
       "      <th>1</th>\n",
       "      <td>17850.0</td>\n",
       "      <td>2010-12-01 08:26:00</td>\n",
       "      <td>536365</td>\n",
       "      <td>6</td>\n",
       "      <td>3.39</td>\n",
       "      <td>20.34</td>\n",
       "    </tr>\n",
       "    <tr>\n",
       "      <th>2</th>\n",
       "      <td>17850.0</td>\n",
       "      <td>2010-12-01 08:26:00</td>\n",
       "      <td>536365</td>\n",
       "      <td>8</td>\n",
       "      <td>2.75</td>\n",
       "      <td>22.00</td>\n",
       "    </tr>\n",
       "    <tr>\n",
       "      <th>3</th>\n",
       "      <td>17850.0</td>\n",
       "      <td>2010-12-01 08:26:00</td>\n",
       "      <td>536365</td>\n",
       "      <td>6</td>\n",
       "      <td>3.39</td>\n",
       "      <td>20.34</td>\n",
       "    </tr>\n",
       "    <tr>\n",
       "      <th>4</th>\n",
       "      <td>17850.0</td>\n",
       "      <td>2010-12-01 08:26:00</td>\n",
       "      <td>536365</td>\n",
       "      <td>6</td>\n",
       "      <td>3.39</td>\n",
       "      <td>20.34</td>\n",
       "    </tr>\n",
       "  </tbody>\n",
       "</table>\n",
       "</div>"
      ],
      "text/plain": [
       "   CustomerID         InvoiceDate InvoiceNo  Quantity  UnitPrice  TotalPrice\n",
       "0     17850.0 2010-12-01 08:26:00    536365         6       2.55       15.30\n",
       "1     17850.0 2010-12-01 08:26:00    536365         6       3.39       20.34\n",
       "2     17850.0 2010-12-01 08:26:00    536365         8       2.75       22.00\n",
       "3     17850.0 2010-12-01 08:26:00    536365         6       3.39       20.34\n",
       "4     17850.0 2010-12-01 08:26:00    536365         6       3.39       20.34"
      ]
     },
     "execution_count": 26,
     "metadata": {},
     "output_type": "execute_result"
    }
   ],
   "source": [
    "uk_data.head()"
   ]
  },
  {
   "cell_type": "markdown",
   "metadata": {},
   "source": [
    "Agrupamento por CustomerID"
   ]
  },
  {
   "cell_type": "code",
   "execution_count": 27,
   "metadata": {},
   "outputs": [],
   "source": [
    "rfm = uk_data.groupby('CustomerID').agg({'InvoiceDate': lambda date: (PRESENT - date.max()).days,\n",
    "                                         'InvoiceNo': lambda num: len(num),\n",
    "                                         'TotalPrice': lambda price: price.sum()})"
   ]
  },
  {
   "cell_type": "code",
   "execution_count": 28,
   "metadata": {},
   "outputs": [
    {
     "data": {
      "text/html": [
       "<div>\n",
       "<style scoped>\n",
       "    .dataframe tbody tr th:only-of-type {\n",
       "        vertical-align: middle;\n",
       "    }\n",
       "\n",
       "    .dataframe tbody tr th {\n",
       "        vertical-align: top;\n",
       "    }\n",
       "\n",
       "    .dataframe thead th {\n",
       "        text-align: right;\n",
       "    }\n",
       "</style>\n",
       "<table border=\"1\" class=\"dataframe\">\n",
       "  <thead>\n",
       "    <tr style=\"text-align: right;\">\n",
       "      <th></th>\n",
       "      <th>InvoiceDate</th>\n",
       "      <th>InvoiceNo</th>\n",
       "      <th>TotalPrice</th>\n",
       "    </tr>\n",
       "    <tr>\n",
       "      <th>CustomerID</th>\n",
       "      <th></th>\n",
       "      <th></th>\n",
       "      <th></th>\n",
       "    </tr>\n",
       "  </thead>\n",
       "  <tbody>\n",
       "    <tr>\n",
       "      <th>12346.0</th>\n",
       "      <td>325</td>\n",
       "      <td>1</td>\n",
       "      <td>77183.60</td>\n",
       "    </tr>\n",
       "    <tr>\n",
>>>>>>> 732eef23c73d31e3479c17f29a9e71fcf96742db:Jupyter/RFM/RFM - Test.ipynb
       "      <th>12747.0</th>\n",
       "      <td>2</td>\n",
       "      <td>103</td>\n",
       "      <td>4196.01</td>\n",
       "    </tr>\n",
       "    <tr>\n",
       "      <th>12748.0</th>\n",
       "      <td>0</td>\n",
       "      <td>4596</td>\n",
       "      <td>33719.73</td>\n",
       "    </tr>\n",
       "    <tr>\n",
       "      <th>12749.0</th>\n",
       "      <td>3</td>\n",
       "      <td>199</td>\n",
       "      <td>4090.88</td>\n",
       "    </tr>\n",
       "    <tr>\n",
       "      <th>12820.0</th>\n",
       "      <td>3</td>\n",
       "      <td>59</td>\n",
       "      <td>942.34</td>\n",
       "    </tr>\n",
       "  </tbody>\n",
       "</table>\n",
       "</div>"
      ],
      "text/plain": [
       "            InvoiceDate  InvoiceNo  TotalPrice\n",
       "CustomerID                                    \n",
       "12346.0             325          1    77183.60\n",
       "12747.0               2        103     4196.01\n",
       "12748.0               0       4596    33719.73\n",
       "12749.0               3        199     4090.88\n",
       "12820.0               3         59      942.34"
      ]
     },
<<<<<<< HEAD:Jupyter/RFM/Análise RFM.ipynb
     "execution_count": 41,
=======
     "execution_count": 28,
>>>>>>> 732eef23c73d31e3479c17f29a9e71fcf96742db:Jupyter/RFM/RFM - Test.ipynb
     "metadata": {},
     "output_type": "execute_result"
    }
   ],
   "source": [
    "rfm.head()"
   ]
  },
  {
   "cell_type": "markdown",
   "metadata": {},
   "source": [
    "Alterando título das colunas"
   ]
  },
  {
   "cell_type": "code",
<<<<<<< HEAD:Jupyter/RFM/Análise RFM.ipynb
   "execution_count": 42,
=======
   "execution_count": 29,
>>>>>>> 732eef23c73d31e3479c17f29a9e71fcf96742db:Jupyter/RFM/RFM - Test.ipynb
   "metadata": {},
   "outputs": [
    {
     "data": {
      "text/plain": [
       "Index(['InvoiceDate', 'InvoiceNo', 'TotalPrice'], dtype='object')"
      ]
     },
<<<<<<< HEAD:Jupyter/RFM/Análise RFM.ipynb
     "execution_count": 42,
=======
     "execution_count": 29,
>>>>>>> 732eef23c73d31e3479c17f29a9e71fcf96742db:Jupyter/RFM/RFM - Test.ipynb
     "metadata": {},
     "output_type": "execute_result"
    }
   ],
   "source": [
    "rfm.columns"
   ]
  },
  {
   "cell_type": "code",
<<<<<<< HEAD:Jupyter/RFM/Análise RFM.ipynb
   "execution_count": 43,
=======
   "execution_count": 30,
>>>>>>> 732eef23c73d31e3479c17f29a9e71fcf96742db:Jupyter/RFM/RFM - Test.ipynb
   "metadata": {},
   "outputs": [],
   "source": [
    "rfm.columns=['recency','frequency','monetary']"
   ]
  },
  {
   "cell_type": "markdown",
   "metadata": {},
   "source": [
    "Determinando valor das células"
   ]
  },
  {
   "cell_type": "code",
<<<<<<< HEAD:Jupyter/RFM/Análise RFM.ipynb
   "execution_count": 44,
=======
   "execution_count": 31,
>>>>>>> 732eef23c73d31e3479c17f29a9e71fcf96742db:Jupyter/RFM/RFM - Test.ipynb
   "metadata": {},
   "outputs": [],
   "source": [
    "rfm['recency']=rfm['recency'].astype(int)"
   ]
  },
  {
   "cell_type": "code",
<<<<<<< HEAD:Jupyter/RFM/Análise RFM.ipynb
   "execution_count": 45,
=======
   "execution_count": 32,
>>>>>>> 732eef23c73d31e3479c17f29a9e71fcf96742db:Jupyter/RFM/RFM - Test.ipynb
   "metadata": {},
   "outputs": [],
   "source": [
    "rfm['frequency']=rfm['frequency'].astype(float)"
   ]
  },
  {
   "cell_type": "code",
<<<<<<< HEAD:Jupyter/RFM/Análise RFM.ipynb
   "execution_count": 46,
=======
   "execution_count": 33,
>>>>>>> 732eef23c73d31e3479c17f29a9e71fcf96742db:Jupyter/RFM/RFM - Test.ipynb
   "metadata": {},
   "outputs": [],
   "source": [
    "rfm['monetary']=rfm['monetary'].astype(float)"
   ]
  },
  {
   "cell_type": "code",
<<<<<<< HEAD:Jupyter/RFM/Análise RFM.ipynb
   "execution_count": 47,
=======
   "execution_count": 34,
>>>>>>> 732eef23c73d31e3479c17f29a9e71fcf96742db:Jupyter/RFM/RFM - Test.ipynb
   "metadata": {},
   "outputs": [
    {
     "data": {
      "text/html": [
       "<div>\n",
       "<style scoped>\n",
       "    .dataframe tbody tr th:only-of-type {\n",
       "        vertical-align: middle;\n",
       "    }\n",
       "\n",
       "    .dataframe tbody tr th {\n",
       "        vertical-align: top;\n",
       "    }\n",
       "\n",
       "    .dataframe thead th {\n",
       "        text-align: right;\n",
       "    }\n",
       "</style>\n",
       "<table border=\"1\" class=\"dataframe\">\n",
       "  <thead>\n",
       "    <tr style=\"text-align: right;\">\n",
       "      <th></th>\n",
       "      <th>recency</th>\n",
       "      <th>frequency</th>\n",
       "      <th>monetary</th>\n",
       "    </tr>\n",
       "    <tr>\n",
       "      <th>CustomerID</th>\n",
       "      <th></th>\n",
       "      <th></th>\n",
       "      <th></th>\n",
       "    </tr>\n",
       "  </thead>\n",
       "  <tbody>\n",
       "    <tr>\n",
       "      <th>12346.0</th>\n",
       "      <td>325</td>\n",
       "      <td>1.0</td>\n",
       "      <td>77183.60</td>\n",
       "    </tr>\n",
       "    <tr>\n",
       "      <th>12747.0</th>\n",
       "      <td>2</td>\n",
       "      <td>103.0</td>\n",
       "      <td>4196.01</td>\n",
       "    </tr>\n",
       "    <tr>\n",
       "      <th>12748.0</th>\n",
       "      <td>0</td>\n",
       "      <td>4596.0</td>\n",
       "      <td>33719.73</td>\n",
       "    </tr>\n",
       "    <tr>\n",
       "      <th>12749.0</th>\n",
       "      <td>3</td>\n",
       "      <td>199.0</td>\n",
       "      <td>4090.88</td>\n",
       "    </tr>\n",
       "    <tr>\n",
       "      <th>12820.0</th>\n",
       "      <td>3</td>\n",
       "      <td>59.0</td>\n",
       "      <td>942.34</td>\n",
       "    </tr>\n",
       "  </tbody>\n",
       "</table>\n",
       "</div>"
      ],
      "text/plain": [
       "            recency  frequency  monetary\n",
       "CustomerID                              \n",
       "12346.0         325        1.0  77183.60\n",
       "12747.0           2      103.0   4196.01\n",
       "12748.0           0     4596.0  33719.73\n",
       "12749.0           3      199.0   4090.88\n",
       "12820.0           3       59.0    942.34"
      ]
     },
<<<<<<< HEAD:Jupyter/RFM/Análise RFM.ipynb
     "execution_count": 47,
=======
     "execution_count": 34,
>>>>>>> 732eef23c73d31e3479c17f29a9e71fcf96742db:Jupyter/RFM/RFM - Test.ipynb
     "metadata": {},
     "output_type": "execute_result"
    }
   ],
   "source": [
    "rfm.head()"
   ]
  },
  {
   "cell_type": "markdown",
   "metadata": {},
   "source": [
    "Definindo range - 100% / 5 = 20% cada range"
   ]
  },
  {
   "cell_type": "code",
<<<<<<< HEAD:Jupyter/RFM/Análise RFM.ipynb
   "execution_count": 48,
=======
   "execution_count": 35,
>>>>>>> 732eef23c73d31e3479c17f29a9e71fcf96742db:Jupyter/RFM/RFM - Test.ipynb
   "metadata": {},
   "outputs": [],
   "source": [
    "rfm['r_cat'] = pd.qcut(rfm['recency'], 5, ['5','4','3','2','1'])"
   ]
  },
  {
   "cell_type": "code",
<<<<<<< HEAD:Jupyter/RFM/Análise RFM.ipynb
   "execution_count": 49,
=======
   "execution_count": 36,
>>>>>>> 732eef23c73d31e3479c17f29a9e71fcf96742db:Jupyter/RFM/RFM - Test.ipynb
   "metadata": {},
   "outputs": [],
   "source": [
    "rfm['f_cat'] = pd.qcut(rfm['frequency'], 5, ['1','2','3','4','5'])"
   ]
  },
  {
   "cell_type": "code",
<<<<<<< HEAD:Jupyter/RFM/Análise RFM.ipynb
   "execution_count": 50,
=======
   "execution_count": 37,
>>>>>>> 732eef23c73d31e3479c17f29a9e71fcf96742db:Jupyter/RFM/RFM - Test.ipynb
   "metadata": {},
   "outputs": [],
   "source": [
    "rfm['m_cat'] = pd.qcut(rfm['monetary'], 5, ['1','2','3','4','5'])"
   ]
  },
  {
   "cell_type": "code",
<<<<<<< HEAD:Jupyter/RFM/Análise RFM.ipynb
   "execution_count": 51,
=======
   "execution_count": 38,
>>>>>>> 732eef23c73d31e3479c17f29a9e71fcf96742db:Jupyter/RFM/RFM - Test.ipynb
   "metadata": {},
   "outputs": [
    {
     "data": {
      "text/html": [
       "<div>\n",
       "<style scoped>\n",
       "    .dataframe tbody tr th:only-of-type {\n",
       "        vertical-align: middle;\n",
       "    }\n",
       "\n",
       "    .dataframe tbody tr th {\n",
       "        vertical-align: top;\n",
       "    }\n",
       "\n",
       "    .dataframe thead th {\n",
       "        text-align: right;\n",
       "    }\n",
       "</style>\n",
       "<table border=\"1\" class=\"dataframe\">\n",
       "  <thead>\n",
       "    <tr style=\"text-align: right;\">\n",
       "      <th></th>\n",
       "      <th>recency</th>\n",
       "      <th>frequency</th>\n",
       "      <th>monetary</th>\n",
       "      <th>r_cat</th>\n",
       "      <th>f_cat</th>\n",
       "      <th>m_cat</th>\n",
       "    </tr>\n",
       "    <tr>\n",
       "      <th>CustomerID</th>\n",
       "      <th></th>\n",
       "      <th></th>\n",
       "      <th></th>\n",
       "      <th></th>\n",
       "      <th></th>\n",
       "      <th></th>\n",
       "    </tr>\n",
       "  </thead>\n",
       "  <tbody>\n",
       "    <tr>\n",
       "      <th>12346.0</th>\n",
       "      <td>325</td>\n",
       "      <td>1.0</td>\n",
       "      <td>77183.60</td>\n",
       "      <td>1</td>\n",
       "      <td>1</td>\n",
       "      <td>5</td>\n",
       "    </tr>\n",
       "    <tr>\n",
       "      <th>12747.0</th>\n",
       "      <td>2</td>\n",
       "      <td>103.0</td>\n",
       "      <td>4196.01</td>\n",
       "      <td>5</td>\n",
       "      <td>4</td>\n",
       "      <td>5</td>\n",
       "    </tr>\n",
       "    <tr>\n",
       "      <th>12748.0</th>\n",
       "      <td>0</td>\n",
       "      <td>4596.0</td>\n",
       "      <td>33719.73</td>\n",
       "      <td>5</td>\n",
       "      <td>5</td>\n",
       "      <td>5</td>\n",
       "    </tr>\n",
       "    <tr>\n",
       "      <th>12749.0</th>\n",
       "      <td>3</td>\n",
       "      <td>199.0</td>\n",
       "      <td>4090.88</td>\n",
       "      <td>5</td>\n",
       "      <td>5</td>\n",
       "      <td>5</td>\n",
       "    </tr>\n",
       "    <tr>\n",
       "      <th>12820.0</th>\n",
       "      <td>3</td>\n",
       "      <td>59.0</td>\n",
       "      <td>942.34</td>\n",
       "      <td>5</td>\n",
       "      <td>4</td>\n",
       "      <td>4</td>\n",
       "    </tr>\n",
       "  </tbody>\n",
       "</table>\n",
       "</div>"
      ],
      "text/plain": [
       "            recency  frequency  monetary r_cat f_cat m_cat\n",
       "CustomerID                                                \n",
       "12346.0         325        1.0  77183.60     1     1     5\n",
       "12747.0           2      103.0   4196.01     5     4     5\n",
       "12748.0           0     4596.0  33719.73     5     5     5\n",
       "12749.0           3      199.0   4090.88     5     5     5\n",
       "12820.0           3       59.0    942.34     5     4     4"
      ]
     },
<<<<<<< HEAD:Jupyter/RFM/Análise RFM.ipynb
     "execution_count": 51,
=======
     "execution_count": 38,
>>>>>>> 732eef23c73d31e3479c17f29a9e71fcf96742db:Jupyter/RFM/RFM - Test.ipynb
     "metadata": {},
     "output_type": "execute_result"
    }
   ],
   "source": [
    "rfm.head()"
   ]
  },
  {
   "cell_type": "markdown",
   "metadata": {},
   "source": [
    "Para que fosse possível realizar determinada operação matemática, foi necessário \n",
    "salvar a base tratada até então em um novo csv."
   ]
  },
  {
   "cell_type": "code",
<<<<<<< HEAD:Jupyter/RFM/Análise RFM.ipynb
   "execution_count": 52,
=======
   "execution_count": 39,
>>>>>>> 732eef23c73d31e3479c17f29a9e71fcf96742db:Jupyter/RFM/RFM - Test.ipynb
   "metadata": {},
   "outputs": [],
   "source": [
    "rfm.to_csv('rfmclean.csv')"
   ]
  },
  {
   "cell_type": "markdown",
   "metadata": {},
   "source": [
    "Carregando novamente a base"
   ]
  },
  {
   "cell_type": "code",
<<<<<<< HEAD:Jupyter/RFM/Análise RFM.ipynb
   "execution_count": 53,
=======
   "execution_count": 40,
>>>>>>> 732eef23c73d31e3479c17f29a9e71fcf96742db:Jupyter/RFM/RFM - Test.ipynb
   "metadata": {},
   "outputs": [],
   "source": [
    "rfm2= pd.read_csv('rfmclean.csv')"
   ]
  },
  {
   "cell_type": "code",
<<<<<<< HEAD:Jupyter/RFM/Análise RFM.ipynb
   "execution_count": 54,
=======
   "execution_count": 41,
>>>>>>> 732eef23c73d31e3479c17f29a9e71fcf96742db:Jupyter/RFM/RFM - Test.ipynb
   "metadata": {},
   "outputs": [
    {
     "data": {
      "text/html": [
       "<div>\n",
       "<style scoped>\n",
       "    .dataframe tbody tr th:only-of-type {\n",
       "        vertical-align: middle;\n",
       "    }\n",
       "\n",
       "    .dataframe tbody tr th {\n",
       "        vertical-align: top;\n",
       "    }\n",
       "\n",
       "    .dataframe thead th {\n",
       "        text-align: right;\n",
       "    }\n",
       "</style>\n",
       "<table border=\"1\" class=\"dataframe\">\n",
       "  <thead>\n",
       "    <tr style=\"text-align: right;\">\n",
       "      <th></th>\n",
       "      <th>CustomerID</th>\n",
       "      <th>recency</th>\n",
       "      <th>frequency</th>\n",
       "      <th>monetary</th>\n",
       "      <th>r_cat</th>\n",
       "      <th>f_cat</th>\n",
       "      <th>m_cat</th>\n",
       "    </tr>\n",
       "  </thead>\n",
       "  <tbody>\n",
       "    <tr>\n",
       "      <th>0</th>\n",
       "      <td>12346.0</td>\n",
       "      <td>325</td>\n",
       "      <td>1.0</td>\n",
       "      <td>77183.60</td>\n",
       "      <td>1</td>\n",
       "      <td>1</td>\n",
       "      <td>5</td>\n",
       "    </tr>\n",
       "    <tr>\n",
       "      <th>1</th>\n",
       "      <td>12747.0</td>\n",
       "      <td>2</td>\n",
       "      <td>103.0</td>\n",
       "      <td>4196.01</td>\n",
       "      <td>5</td>\n",
       "      <td>4</td>\n",
       "      <td>5</td>\n",
       "    </tr>\n",
       "    <tr>\n",
       "      <th>2</th>\n",
       "      <td>12748.0</td>\n",
       "      <td>0</td>\n",
       "      <td>4596.0</td>\n",
       "      <td>33719.73</td>\n",
       "      <td>5</td>\n",
       "      <td>5</td>\n",
       "      <td>5</td>\n",
       "    </tr>\n",
       "    <tr>\n",
       "      <th>3</th>\n",
       "      <td>12749.0</td>\n",
       "      <td>3</td>\n",
       "      <td>199.0</td>\n",
       "      <td>4090.88</td>\n",
       "      <td>5</td>\n",
       "      <td>5</td>\n",
       "      <td>5</td>\n",
       "    </tr>\n",
       "    <tr>\n",
       "      <th>4</th>\n",
       "      <td>12820.0</td>\n",
       "      <td>3</td>\n",
       "      <td>59.0</td>\n",
       "      <td>942.34</td>\n",
       "      <td>5</td>\n",
       "      <td>4</td>\n",
       "      <td>4</td>\n",
       "    </tr>\n",
       "  </tbody>\n",
       "</table>\n",
       "</div>"
      ],
      "text/plain": [
       "   CustomerID  recency  frequency  monetary  r_cat  f_cat  m_cat\n",
       "0     12346.0      325        1.0  77183.60      1      1      5\n",
       "1     12747.0        2      103.0   4196.01      5      4      5\n",
       "2     12748.0        0     4596.0  33719.73      5      5      5\n",
       "3     12749.0        3      199.0   4090.88      5      5      5\n",
       "4     12820.0        3       59.0    942.34      5      4      4"
      ]
     },
<<<<<<< HEAD:Jupyter/RFM/Análise RFM.ipynb
     "execution_count": 54,
=======
     "execution_count": 41,
>>>>>>> 732eef23c73d31e3479c17f29a9e71fcf96742db:Jupyter/RFM/RFM - Test.ipynb
     "metadata": {},
     "output_type": "execute_result"
    }
   ],
   "source": [
    "rfm2.head()"
   ]
  },
  {
   "cell_type": "markdown",
   "metadata": {},
   "source": [
    "Criando coluna FM = Média de Frequency e Monetary"
   ]
  },
  {
   "cell_type": "code",
<<<<<<< HEAD:Jupyter/RFM/Análise RFM.ipynb
   "execution_count": 55,
=======
   "execution_count": 42,
>>>>>>> 732eef23c73d31e3479c17f29a9e71fcf96742db:Jupyter/RFM/RFM - Test.ipynb
   "metadata": {},
   "outputs": [],
   "source": [
    "rfm2['fm_cat'] = (rfm2['f_cat'] + rfm2['m_cat'])/2"
   ]
  },
  {
   "cell_type": "code",
<<<<<<< HEAD:Jupyter/RFM/Análise RFM.ipynb
   "execution_count": 56,
=======
   "execution_count": 43,
>>>>>>> 732eef23c73d31e3479c17f29a9e71fcf96742db:Jupyter/RFM/RFM - Test.ipynb
   "metadata": {},
   "outputs": [
    {
     "data": {
      "text/html": [
       "<div>\n",
       "<style scoped>\n",
       "    .dataframe tbody tr th:only-of-type {\n",
       "        vertical-align: middle;\n",
       "    }\n",
       "\n",
       "    .dataframe tbody tr th {\n",
       "        vertical-align: top;\n",
       "    }\n",
       "\n",
       "    .dataframe thead th {\n",
       "        text-align: right;\n",
       "    }\n",
       "</style>\n",
       "<table border=\"1\" class=\"dataframe\">\n",
       "  <thead>\n",
       "    <tr style=\"text-align: right;\">\n",
       "      <th></th>\n",
       "      <th>CustomerID</th>\n",
       "      <th>recency</th>\n",
       "      <th>frequency</th>\n",
       "      <th>monetary</th>\n",
       "      <th>r_cat</th>\n",
       "      <th>f_cat</th>\n",
       "      <th>m_cat</th>\n",
       "      <th>fm_cat</th>\n",
       "    </tr>\n",
       "  </thead>\n",
       "  <tbody>\n",
       "    <tr>\n",
       "      <th>0</th>\n",
       "      <td>12346.0</td>\n",
       "      <td>325</td>\n",
       "      <td>1.0</td>\n",
       "      <td>77183.60</td>\n",
       "      <td>1</td>\n",
       "      <td>1</td>\n",
       "      <td>5</td>\n",
       "      <td>3.0</td>\n",
       "    </tr>\n",
       "    <tr>\n",
       "      <th>1</th>\n",
       "      <td>12747.0</td>\n",
       "      <td>2</td>\n",
       "      <td>103.0</td>\n",
       "      <td>4196.01</td>\n",
       "      <td>5</td>\n",
       "      <td>4</td>\n",
       "      <td>5</td>\n",
       "      <td>4.5</td>\n",
       "    </tr>\n",
       "    <tr>\n",
       "      <th>2</th>\n",
       "      <td>12748.0</td>\n",
       "      <td>0</td>\n",
       "      <td>4596.0</td>\n",
       "      <td>33719.73</td>\n",
       "      <td>5</td>\n",
       "      <td>5</td>\n",
       "      <td>5</td>\n",
       "      <td>5.0</td>\n",
       "    </tr>\n",
       "    <tr>\n",
       "      <th>3</th>\n",
       "      <td>12749.0</td>\n",
       "      <td>3</td>\n",
       "      <td>199.0</td>\n",
       "      <td>4090.88</td>\n",
       "      <td>5</td>\n",
       "      <td>5</td>\n",
       "      <td>5</td>\n",
       "      <td>5.0</td>\n",
       "    </tr>\n",
       "    <tr>\n",
       "      <th>4</th>\n",
       "      <td>12820.0</td>\n",
       "      <td>3</td>\n",
       "      <td>59.0</td>\n",
       "      <td>942.34</td>\n",
       "      <td>5</td>\n",
       "      <td>4</td>\n",
       "      <td>4</td>\n",
       "      <td>4.0</td>\n",
       "    </tr>\n",
       "  </tbody>\n",
       "</table>\n",
       "</div>"
      ],
      "text/plain": [
       "   CustomerID  recency  frequency  monetary  r_cat  f_cat  m_cat  fm_cat\n",
       "0     12346.0      325        1.0  77183.60      1      1      5     3.0\n",
       "1     12747.0        2      103.0   4196.01      5      4      5     4.5\n",
       "2     12748.0        0     4596.0  33719.73      5      5      5     5.0\n",
       "3     12749.0        3      199.0   4090.88      5      5      5     5.0\n",
       "4     12820.0        3       59.0    942.34      5      4      4     4.0"
      ]
     },
<<<<<<< HEAD:Jupyter/RFM/Análise RFM.ipynb
     "execution_count": 56,
=======
     "execution_count": 43,
>>>>>>> 732eef23c73d31e3479c17f29a9e71fcf96742db:Jupyter/RFM/RFM - Test.ipynb
     "metadata": {},
     "output_type": "execute_result"
    }
   ],
   "source": [
    "rfm2.head()"
   ]
  },
  {
   "cell_type": "markdown",
   "metadata": {},
   "source": [
    "Parametros com base r_cat e fm_cat"
   ]
  },
  {
   "cell_type": "code",
<<<<<<< HEAD:Jupyter/RFM/Análise RFM.ipynb
   "execution_count": 57,
   "metadata": {},
   "outputs": [],
   "source": [
    "rfm2['category']=rfm2.apply(ct.cat,axis=1)"
=======
   "execution_count": 44,
   "metadata": {},
   "outputs": [],
   "source": [
    "r = rfm2['r_cat']"
   ]
  },
  {
   "cell_type": "code",
   "execution_count": 45,
   "metadata": {},
   "outputs": [],
   "source": [
    "fm = rfm2['fm_cat']"
   ]
  },
  {
   "cell_type": "code",
   "execution_count": 46,
   "metadata": {},
   "outputs": [],
   "source": [
    "rfm3=rfm2['r_cat'],rfm2['fm_cat']"
>>>>>>> 732eef23c73d31e3479c17f29a9e71fcf96742db:Jupyter/RFM/RFM - Test.ipynb
   ]
  },
  {
   "cell_type": "code",
<<<<<<< HEAD:Jupyter/RFM/Análise RFM.ipynb
   "execution_count": 58,
   "metadata": {},
   "outputs": [
    {
     "data": {
      "text/html": [
       "<div>\n",
       "<style scoped>\n",
       "    .dataframe tbody tr th:only-of-type {\n",
       "        vertical-align: middle;\n",
       "    }\n",
       "\n",
       "    .dataframe tbody tr th {\n",
       "        vertical-align: top;\n",
       "    }\n",
       "\n",
       "    .dataframe thead th {\n",
       "        text-align: right;\n",
       "    }\n",
       "</style>\n",
       "<table border=\"1\" class=\"dataframe\">\n",
       "  <thead>\n",
       "    <tr style=\"text-align: right;\">\n",
       "      <th></th>\n",
       "      <th>CustomerID</th>\n",
       "      <th>recency</th>\n",
       "      <th>frequency</th>\n",
       "      <th>monetary</th>\n",
       "      <th>r_cat</th>\n",
       "      <th>f_cat</th>\n",
       "      <th>m_cat</th>\n",
       "      <th>fm_cat</th>\n",
       "      <th>category</th>\n",
       "    </tr>\n",
       "  </thead>\n",
       "  <tbody>\n",
       "    <tr>\n",
       "      <th>1999</th>\n",
       "      <td>15621.0</td>\n",
       "      <td>4</td>\n",
       "      <td>16.0</td>\n",
       "      <td>1293.03</td>\n",
       "      <td>5</td>\n",
       "      <td>2</td>\n",
       "      <td>4</td>\n",
       "      <td>3.0</td>\n",
       "      <td>Loyal Customers</td>\n",
       "    </tr>\n",
       "    <tr>\n",
       "      <th>1265</th>\n",
       "      <td>14600.0</td>\n",
       "      <td>305</td>\n",
       "      <td>25.0</td>\n",
       "      <td>393.33</td>\n",
       "      <td>1</td>\n",
       "      <td>2</td>\n",
       "      <td>2</td>\n",
       "      <td>2.0</td>\n",
       "      <td>At Risk</td>\n",
       "    </tr>\n",
       "    <tr>\n",
       "      <th>977</th>\n",
       "      <td>14204.0</td>\n",
       "      <td>2</td>\n",
       "      <td>44.0</td>\n",
       "      <td>161.03</td>\n",
       "      <td>5</td>\n",
       "      <td>3</td>\n",
       "      <td>1</td>\n",
       "      <td>2.0</td>\n",
       "      <td>Potential Loyalist</td>\n",
       "    </tr>\n",
       "    <tr>\n",
       "      <th>3898</th>\n",
       "      <td>18252.0</td>\n",
       "      <td>50</td>\n",
       "      <td>98.0</td>\n",
       "      <td>526.67</td>\n",
       "      <td>3</td>\n",
       "      <td>4</td>\n",
       "      <td>3</td>\n",
       "      <td>3.5</td>\n",
       "      <td>Loyal Customers</td>\n",
       "    </tr>\n",
       "    <tr>\n",
       "      <th>2039</th>\n",
       "      <td>15673.0</td>\n",
       "      <td>88</td>\n",
       "      <td>155.0</td>\n",
       "      <td>2881.02</td>\n",
       "      <td>2</td>\n",
       "      <td>5</td>\n",
       "      <td>5</td>\n",
       "      <td>5.0</td>\n",
       "      <td>Loyal Customers</td>\n",
       "    </tr>\n",
       "  </tbody>\n",
       "</table>\n",
       "</div>"
      ],
      "text/plain": [
       "      CustomerID  recency  frequency  monetary  r_cat  f_cat  m_cat  fm_cat  \\\n",
       "1999     15621.0        4       16.0   1293.03      5      2      4     3.0   \n",
       "1265     14600.0      305       25.0    393.33      1      2      2     2.0   \n",
       "977      14204.0        2       44.0    161.03      5      3      1     2.0   \n",
       "3898     18252.0       50       98.0    526.67      3      4      3     3.5   \n",
       "2039     15673.0       88      155.0   2881.02      2      5      5     5.0   \n",
       "\n",
       "                category  \n",
       "1999     Loyal Customers  \n",
       "1265             At Risk  \n",
       "977   Potential Loyalist  \n",
       "3898     Loyal Customers  \n",
       "2039     Loyal Customers  "
      ]
     },
     "execution_count": 58,
     "metadata": {},
     "output_type": "execute_result"
    }
   ],
   "source": [
    "rfm2.sample(5)"
=======
   "execution_count": 47,
   "metadata": {},
   "outputs": [],
   "source": [
    "rfm3 = rfm2.copy()"
   ]
  },
  {
   "cell_type": "code",
   "execution_count": 48,
   "metadata": {},
   "outputs": [],
   "source": [
    "rfm3['fm_cat'] = rfm3['fm_cat'].astype(int)"
   ]
  },
  {
   "cell_type": "code",
   "execution_count": 49,
   "metadata": {},
   "outputs": [
    {
     "name": "stdout",
     "output_type": "stream",
     "text": [
      "<class 'pandas.core.frame.DataFrame'>\n",
      "RangeIndex: 3921 entries, 0 to 3920\n",
      "Data columns (total 8 columns):\n",
      "CustomerID    3921 non-null float64\n",
      "recency       3921 non-null int64\n",
      "frequency     3921 non-null float64\n",
      "monetary      3921 non-null float64\n",
      "r_cat         3921 non-null int64\n",
      "f_cat         3921 non-null int64\n",
      "m_cat         3921 non-null int64\n",
      "fm_cat        3921 non-null int32\n",
      "dtypes: float64(3), int32(1), int64(4)\n",
      "memory usage: 229.8 KB\n"
     ]
    }
   ],
   "source": [
    "rfm3.info()"
>>>>>>> 732eef23c73d31e3479c17f29a9e71fcf96742db:Jupyter/RFM/RFM - Test.ipynb
   ]
  },
  {
   "cell_type": "code",
<<<<<<< HEAD:Jupyter/RFM/Análise RFM.ipynb
   "execution_count": 59,
   "metadata": {},
   "outputs": [],
   "source": [
    "rfm3 = rfm2.groupby('category').agg({'category': lambda num: len(num)})"
=======
   "execution_count": 50,
   "metadata": {},
   "outputs": [],
   "source": [
    "def cat(row):\n",
    "    \n",
    "    return  str(np.where((row['r_cat'] >= 4) & (row['r_cat'] <= 5) & (row['fm_cat'] >= 4) & (row['fm_cat'] <= 5), 'Champion', 'None'))"
>>>>>>> 732eef23c73d31e3479c17f29a9e71fcf96742db:Jupyter/RFM/RFM - Test.ipynb
   ]
  },
  {
   "cell_type": "code",
<<<<<<< HEAD:Jupyter/RFM/Análise RFM.ipynb
   "execution_count": 60,
=======
   "execution_count": 51,
>>>>>>> 732eef23c73d31e3479c17f29a9e71fcf96742db:Jupyter/RFM/RFM - Test.ipynb
   "metadata": {},
   "outputs": [
    {
     "data": {
      "text/html": [
       "<div>\n",
       "<style scoped>\n",
       "    .dataframe tbody tr th:only-of-type {\n",
       "        vertical-align: middle;\n",
       "    }\n",
       "\n",
       "    .dataframe tbody tr th {\n",
       "        vertical-align: top;\n",
       "    }\n",
       "\n",
       "    .dataframe thead th {\n",
       "        text-align: right;\n",
       "    }\n",
       "</style>\n",
       "<table border=\"1\" class=\"dataframe\">\n",
       "  <thead>\n",
       "    <tr style=\"text-align: right;\">\n",
       "      <th></th>\n",
<<<<<<< HEAD:Jupyter/RFM/Análise RFM.ipynb
       "      <th>category</th>\n",
       "    </tr>\n",
       "    <tr>\n",
       "      <th>category</th>\n",
       "      <th></th>\n",
=======
       "      <th>CustomerID</th>\n",
       "      <th>recency</th>\n",
       "      <th>frequency</th>\n",
       "      <th>monetary</th>\n",
       "      <th>r_cat</th>\n",
       "      <th>f_cat</th>\n",
       "      <th>m_cat</th>\n",
       "      <th>fm_cat</th>\n",
       "      <th>category</th>\n",
>>>>>>> 732eef23c73d31e3479c17f29a9e71fcf96742db:Jupyter/RFM/RFM - Test.ipynb
       "    </tr>\n",
       "  </thead>\n",
       "  <tbody>\n",
       "    <tr>\n",
<<<<<<< HEAD:Jupyter/RFM/Análise RFM.ipynb
       "      <th>About to Sleep</th>\n",
       "      <td>190</td>\n",
       "    </tr>\n",
       "    <tr>\n",
       "      <th>At Risk</th>\n",
       "      <td>419</td>\n",
       "    </tr>\n",
       "    <tr>\n",
       "      <th>Champion</th>\n",
       "      <td>893</td>\n",
       "    </tr>\n",
       "    <tr>\n",
       "      <th>Customers Needing Attention</th>\n",
       "      <td>220</td>\n",
       "    </tr>\n",
       "    <tr>\n",
       "      <th>Hibernating</th>\n",
       "      <td>364</td>\n",
       "    </tr>\n",
       "    <tr>\n",
       "      <th>Loyal Customers</th>\n",
       "      <td>1124</td>\n",
       "    </tr>\n",
       "    <tr>\n",
       "      <th>Potential Loyalist</th>\n",
       "      <td>711</td>\n",
=======
       "      <th>0</th>\n",
       "      <td>12346.0</td>\n",
       "      <td>325</td>\n",
       "      <td>1.0</td>\n",
       "      <td>77183.60</td>\n",
       "      <td>1</td>\n",
       "      <td>1</td>\n",
       "      <td>5</td>\n",
       "      <td>3</td>\n",
       "      <td>None</td>\n",
       "    </tr>\n",
       "    <tr>\n",
       "      <th>1</th>\n",
       "      <td>12747.0</td>\n",
       "      <td>2</td>\n",
       "      <td>103.0</td>\n",
       "      <td>4196.01</td>\n",
       "      <td>5</td>\n",
       "      <td>4</td>\n",
       "      <td>5</td>\n",
       "      <td>4</td>\n",
       "      <td>Champion</td>\n",
       "    </tr>\n",
       "    <tr>\n",
       "      <th>2</th>\n",
       "      <td>12748.0</td>\n",
       "      <td>0</td>\n",
       "      <td>4596.0</td>\n",
       "      <td>33719.73</td>\n",
       "      <td>5</td>\n",
       "      <td>5</td>\n",
       "      <td>5</td>\n",
       "      <td>5</td>\n",
       "      <td>Champion</td>\n",
       "    </tr>\n",
       "    <tr>\n",
       "      <th>3</th>\n",
       "      <td>12749.0</td>\n",
       "      <td>3</td>\n",
       "      <td>199.0</td>\n",
       "      <td>4090.88</td>\n",
       "      <td>5</td>\n",
       "      <td>5</td>\n",
       "      <td>5</td>\n",
       "      <td>5</td>\n",
       "      <td>Champion</td>\n",
       "    </tr>\n",
       "    <tr>\n",
       "      <th>4</th>\n",
       "      <td>12820.0</td>\n",
       "      <td>3</td>\n",
       "      <td>59.0</td>\n",
       "      <td>942.34</td>\n",
       "      <td>5</td>\n",
       "      <td>4</td>\n",
       "      <td>4</td>\n",
       "      <td>4</td>\n",
       "      <td>Champion</td>\n",
>>>>>>> 732eef23c73d31e3479c17f29a9e71fcf96742db:Jupyter/RFM/RFM - Test.ipynb
       "    </tr>\n",
       "  </tbody>\n",
       "</table>\n",
       "</div>"
      ],
      "text/plain": [
<<<<<<< HEAD:Jupyter/RFM/Análise RFM.ipynb
       "                             category\n",
       "category                             \n",
       "About to Sleep                    190\n",
       "At Risk                           419\n",
       "Champion                          893\n",
       "Customers Needing Attention       220\n",
       "Hibernating                       364\n",
       "Loyal Customers                  1124\n",
       "Potential Loyalist                711"
      ]
     },
     "execution_count": 60,
=======
       "   CustomerID  recency  frequency  monetary  r_cat  f_cat  m_cat  fm_cat  \\\n",
       "0     12346.0      325        1.0  77183.60      1      1      5       3   \n",
       "1     12747.0        2      103.0   4196.01      5      4      5       4   \n",
       "2     12748.0        0     4596.0  33719.73      5      5      5       5   \n",
       "3     12749.0        3      199.0   4090.88      5      5      5       5   \n",
       "4     12820.0        3       59.0    942.34      5      4      4       4   \n",
       "\n",
       "   category  \n",
       "0      None  \n",
       "1  Champion  \n",
       "2  Champion  \n",
       "3  Champion  \n",
       "4  Champion  "
      ]
     },
     "execution_count": 51,
>>>>>>> 732eef23c73d31e3479c17f29a9e71fcf96742db:Jupyter/RFM/RFM - Test.ipynb
     "metadata": {},
     "output_type": "execute_result"
    }
   ],
   "source": [
<<<<<<< HEAD:Jupyter/RFM/Análise RFM.ipynb
    "rfm3"
=======
    "rfm3['category'] = rfm3.apply(cat, axis=1)\n",
    "rfm3.head()"
>>>>>>> 732eef23c73d31e3479c17f29a9e71fcf96742db:Jupyter/RFM/RFM - Test.ipynb
   ]
  },
  {
   "cell_type": "code",
<<<<<<< HEAD:Jupyter/RFM/Análise RFM.ipynb
   "execution_count": 61,
=======
   "execution_count": 52,
>>>>>>> 732eef23c73d31e3479c17f29a9e71fcf96742db:Jupyter/RFM/RFM - Test.ipynb
   "metadata": {},
   "outputs": [
    {
     "data": {
      "text/plain": [
<<<<<<< HEAD:Jupyter/RFM/Análise RFM.ipynb
       "<matplotlib.axes._subplots.AxesSubplot at 0x23a8c2f1978>"
      ]
     },
     "execution_count": 61,
     "metadata": {},
     "output_type": "execute_result"
    },
    {
     "data": {
      "image/png": "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\n",
=======
       "r_cat  fm_cat  category\n",
       "1      1       None        364\n",
       "       2       None        264\n",
       "       3       None        114\n",
       "       4       None         34\n",
       "       5       None          7\n",
       "2      1       None        190\n",
       "       2       None        220\n",
       "       3       None        214\n",
       "       4       None        117\n",
       "       5       None         31\n",
       "3      1       None        144\n",
       "       2       None        193\n",
       "       3       None        203\n",
       "       4       None        168\n",
       "       5       None         78\n",
       "4      1       None         99\n",
       "       2       None        145\n",
       "       3       None        178\n",
       "       4       Champion    229\n",
       "       5       Champion    138\n",
       "5      1       None         48\n",
       "       2       None         82\n",
       "       3       None        135\n",
       "       4       Champion    243\n",
       "       5       Champion    283\n",
       "Name: category, dtype: int64"
      ]
     },
     "execution_count": 52,
     "metadata": {},
     "output_type": "execute_result"
    }
   ],
   "source": [
    "rfm3.groupby(['r_cat', 'fm_cat', 'category'])['category'].count()"
   ]
  },
  {
   "cell_type": "code",
   "execution_count": 54,
   "metadata": {},
   "outputs": [
    {
     "data": {
      "text/plain": [
       "<matplotlib.axes._subplots.AxesSubplot at 0x258db839e8>"
      ]
     },
     "execution_count": 54,
     "metadata": {},
     "output_type": "execute_result"
    },
    {
     "data": {
      "image/png": "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\n",
>>>>>>> 732eef23c73d31e3479c17f29a9e71fcf96742db:Jupyter/RFM/RFM - Test.ipynb
      "text/plain": [
       "<Figure size 432x288 with 1 Axes>"
      ]
     },
     "metadata": {
      "needs_background": "light"
     },
     "output_type": "display_data"
    }
   ],
   "source": [
<<<<<<< HEAD:Jupyter/RFM/Análise RFM.ipynb
    "rfm3.T.plot.bar()"
   ]
  },
  {
   "cell_type": "code",
   "execution_count": null,
   "metadata": {},
   "outputs": [],
   "source": []
=======
    "rfm3.groupby(['category'])['category'].count().plot(kind='bar')"
   ]
>>>>>>> 732eef23c73d31e3479c17f29a9e71fcf96742db:Jupyter/RFM/RFM - Test.ipynb
  }
 ],
 "metadata": {
  "kernelspec": {
   "display_name": "Python 3",
   "language": "python",
   "name": "python3"
  }
 },
 "nbformat": 4,
 "nbformat_minor": 2
}
